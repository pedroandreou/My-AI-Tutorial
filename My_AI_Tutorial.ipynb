{
 "cells": [
  {
   "cell_type": "markdown",
   "id": "b5a5308e",
   "metadata": {},
   "source": [
    "# Mushroom Classification"
   ]
  },
  {
   "cell_type": "markdown",
   "id": "3a454f75",
   "metadata": {},
   "source": [
    "# Abstract"
   ]
  },
  {
   "cell_type": "markdown",
   "id": "6a5f470e",
   "metadata": {},
   "source": [
    "In the food industry, it is essential to know if a mushroom is safe to consume (edible) or not (poisonous).\n",
    "\n",
    "A machine learning algorithm will assess whether a mushroom is a safe food or a lethal toxin by following seven steps.\n",
    "\n",
    "Logistic Regression has been selected as the model to use moving forward in order to complete our classification task. That's due to our problem, where the value of our target variable has a binary output, either belongs to one class (edible) or another (poisonous).\n",
    "\n",
    "An accuracy score of 100% was achieved twice; firstly, by using label encoding, a splitting strategy like K-fold Cross-Validation and an optimizer like GridSearchCV and secondly, by using One hot encoding and the Hold-out method.\n",
    "\n",
    "Finally, provided some insights on the reliability of these two models."
   ]
  },
  {
   "cell_type": "markdown",
   "id": "a9c99771",
   "metadata": {},
   "source": [
    "# Objectives"
   ]
  },
  {
   "cell_type": "markdown",
   "id": "e264430d",
   "metadata": {},
   "source": [
    "* Discover where to obtain and gather open-sourced datasets so that we may begin building a machine learning model\n",
    "* Gain knowledge of how crucial data preparation is to the machine learning process\n",
    "* Find out how to feed the preprocessed data into a machine learning algorithm and assess the model using metrics like accuracy score and confusion matrix\n",
    "* Learn how to measure a model's stability with respect to constantly changing training and test data by using an alternative splitting approach to the conventional one, the holdout method\n",
    "* Tune a model's parameters using a method that finds the optimal parameter values from the supplied grid of parameters in order to improve a model's performance\n",
    "* Understand the difference between label encoding and one hot encoding"
   ]
  },
  {
   "cell_type": "markdown",
   "id": "c56532a9",
   "metadata": {},
   "source": [
    "# What sets my tutorial apart from other comparable online tutorials"
   ]
  },
  {
   "cell_type": "markdown",
   "id": "2829838d",
   "metadata": {},
   "source": [
    "I needed to find a way to make my tutorial stand out, in addition to clearly demonstrating the process used so the reader can understand everything right away.\n",
    "<br>\n",
    "<br>\n",
    "I discovered that no tutorial demonstrates more than one strategy at doing the mushroom classifciation task in its entirety.\n",
    "<br>\n",
    "<br>\n",
    "In light of the fact that doing so might eventually boost a person's cognitive growth, I decided that compiling all relevant resources into a comprehensive tutorial would be the ideal action to take.\n",
    "<br>\n",
    "<br>\n",
    "<br>"
   ]
  },
  {
   "cell_type": "markdown",
   "id": "4613b0c2",
   "metadata": {},
   "source": [
    "## Summary of the approach\n",
    "### The 7 Machine Learning stages are the following:\n",
    "[1. Collecting Data](#1.-Collecting-Data)\n",
    "<br>\n",
    "[2. Exploratory Data Analysis and Data Preprocessing](#2.-Exploratory-Data-Analysis-and-Data-Preprocessing)\n",
    "<br>\n",
    "[3. Choosing a model](#3.-Choosing-a-model)\n",
    "<br>\n",
    "[4. Training the model](#4.-Training-the-model)\n",
    "<br>\n",
    "[5. Evaluating the model](#5.-Evaluating-the-model)\n",
    "<br>\n",
    "[6. Parameter Tuning](#6.-Parameter-Tuning)\n",
    "<br>\n",
    "[7. Making Predictions](#7.-Making-Predictions)"
   ]
  },
  {
   "cell_type": "markdown",
   "id": "7f51d5da",
   "metadata": {},
   "source": [
    "Let's delve into it to get a better understanding of what each stage really does."
   ]
  },
  {
   "cell_type": "markdown",
   "id": "5a748ba0",
   "metadata": {},
   "source": [
    "### 1. Collecting Data"
   ]
  },
  {
   "cell_type": "markdown",
   "id": "c84d0445",
   "metadata": {},
   "source": [
    "The most crucial phase of tackling any supervised machine learning issue is data collection. The most popular primary data gathering techniques include interviewing, observing, completing surveys and questionnaires, holding focus groups, recording oral histories, and web scraping.\n",
    "\n",
    "We are fortunate, though, since Kaggle exists.\n",
    "\n",
    "Kaggle is an online community for machine learning and data science aficionados. Users of Kaggle have the ability to work collaboratively, access and publish datasets, use notebooks with GPU integration, and compete with other data scientists to tackle data science issues [3].\n",
    "\n",
    "That being said, adopting an open-sourced dataset from the UCI Machine Learning [2] that has been posted on Kaggle would significantly simplify our lives."
   ]
  },
  {
   "cell_type": "code",
   "execution_count": 1,
   "id": "9169af70",
   "metadata": {},
   "outputs": [],
   "source": [
    "import warnings\n",
    "warnings.filterwarnings(\"ignore\") # Hide all warnings "
   ]
  },
  {
   "cell_type": "code",
   "execution_count": 2,
   "id": "bfb81d56",
   "metadata": {},
   "outputs": [],
   "source": [
    "%%capture\n",
    "\n",
    "! pip install pandas\n",
    "import pandas as pd\n",
    "\n",
    "def get_df_from_file():\n",
    "    missing_values = [\"na\", \"?\"] # Potential representation of missing values in the dataset\n",
    "    df = pd.read_csv('mushrooms.csv', na_values = missing_values) # Load dataset into a Pandas dataframe\n",
    "    \n",
    "    return df\n",
    "\n",
    "\n",
    "# Get a dataframe that includes the whole dataset\n",
    "df = get_df_from_file()"
   ]
  },
  {
   "cell_type": "markdown",
   "id": "5ca7261f",
   "metadata": {},
   "source": [
    "<u>Notes:</u> \n",
    "1. The %%capture magic function is used to hide the cell's output, in order to prevent us from seeing all of the output of downloading a library.\n",
    "2. We only utilise functions for such simple tasks since we'll reuse the code farther down in the process."
   ]
  },
  {
   "cell_type": "markdown",
   "id": "e697b45e",
   "metadata": {},
   "source": [
    "<br>"
   ]
  },
  {
   "cell_type": "markdown",
   "id": "44401c26",
   "metadata": {},
   "source": [
    "### 2. Exploratory Data Analysis and Data Preprocessing"
   ]
  },
  {
   "cell_type": "markdown",
   "id": "048ccb52",
   "metadata": {},
   "source": [
    "#### What is Exploratory Data Analysis?\n",
    "As its name implies, this stage is when we attempt to investigate the data through analysis.\n",
    "\n",
    "#### Okay, but what exactly is the purpose of analyzing our data?\n",
    "Think of it this way. In the absence of data, no model can be trained, no insights can be obtained, and no time is squandered; nevertheless, in the presence of flawed data, several models may be trained, numerous insights can be obtained, and time is unquestionably wasted.\n",
    "\n",
    "#### That seems reasonable, but how can we examine our data effectively?\n",
    "There are numerous ways to examine our data. Let's look at several methods below for understanding and visualising our data.\n",
    "\n",
    "<br>\n",
    "<br>"
   ]
  },
  {
   "cell_type": "markdown",
   "id": "86c29087",
   "metadata": {},
   "source": [
    "####  Understanding the data"
   ]
  },
  {
   "cell_type": "code",
   "execution_count": 3,
   "id": "ec29c4ed",
   "metadata": {
    "scrolled": true
   },
   "outputs": [
    {
     "data": {
      "text/html": [
       "<div>\n",
       "<style scoped>\n",
       "    .dataframe tbody tr th:only-of-type {\n",
       "        vertical-align: middle;\n",
       "    }\n",
       "\n",
       "    .dataframe tbody tr th {\n",
       "        vertical-align: top;\n",
       "    }\n",
       "\n",
       "    .dataframe thead th {\n",
       "        text-align: right;\n",
       "    }\n",
       "</style>\n",
       "<table border=\"1\" class=\"dataframe\">\n",
       "  <thead>\n",
       "    <tr style=\"text-align: right;\">\n",
       "      <th></th>\n",
       "      <th>class</th>\n",
       "      <th>cap-shape</th>\n",
       "      <th>cap-surface</th>\n",
       "      <th>cap-color</th>\n",
       "      <th>bruises</th>\n",
       "      <th>odor</th>\n",
       "      <th>gill-attachment</th>\n",
       "      <th>gill-spacing</th>\n",
       "      <th>gill-size</th>\n",
       "      <th>gill-color</th>\n",
       "      <th>...</th>\n",
       "      <th>stalk-surface-below-ring</th>\n",
       "      <th>stalk-color-above-ring</th>\n",
       "      <th>stalk-color-below-ring</th>\n",
       "      <th>veil-type</th>\n",
       "      <th>veil-color</th>\n",
       "      <th>ring-number</th>\n",
       "      <th>ring-type</th>\n",
       "      <th>spore-print-color</th>\n",
       "      <th>population</th>\n",
       "      <th>habitat</th>\n",
       "    </tr>\n",
       "  </thead>\n",
       "  <tbody>\n",
       "    <tr>\n",
       "      <th>0</th>\n",
       "      <td>p</td>\n",
       "      <td>x</td>\n",
       "      <td>s</td>\n",
       "      <td>n</td>\n",
       "      <td>t</td>\n",
       "      <td>p</td>\n",
       "      <td>f</td>\n",
       "      <td>c</td>\n",
       "      <td>n</td>\n",
       "      <td>k</td>\n",
       "      <td>...</td>\n",
       "      <td>s</td>\n",
       "      <td>w</td>\n",
       "      <td>w</td>\n",
       "      <td>p</td>\n",
       "      <td>w</td>\n",
       "      <td>o</td>\n",
       "      <td>p</td>\n",
       "      <td>k</td>\n",
       "      <td>s</td>\n",
       "      <td>u</td>\n",
       "    </tr>\n",
       "    <tr>\n",
       "      <th>1</th>\n",
       "      <td>e</td>\n",
       "      <td>x</td>\n",
       "      <td>s</td>\n",
       "      <td>y</td>\n",
       "      <td>t</td>\n",
       "      <td>a</td>\n",
       "      <td>f</td>\n",
       "      <td>c</td>\n",
       "      <td>b</td>\n",
       "      <td>k</td>\n",
       "      <td>...</td>\n",
       "      <td>s</td>\n",
       "      <td>w</td>\n",
       "      <td>w</td>\n",
       "      <td>p</td>\n",
       "      <td>w</td>\n",
       "      <td>o</td>\n",
       "      <td>p</td>\n",
       "      <td>n</td>\n",
       "      <td>n</td>\n",
       "      <td>g</td>\n",
       "    </tr>\n",
       "    <tr>\n",
       "      <th>2</th>\n",
       "      <td>e</td>\n",
       "      <td>b</td>\n",
       "      <td>s</td>\n",
       "      <td>w</td>\n",
       "      <td>t</td>\n",
       "      <td>l</td>\n",
       "      <td>f</td>\n",
       "      <td>c</td>\n",
       "      <td>b</td>\n",
       "      <td>n</td>\n",
       "      <td>...</td>\n",
       "      <td>s</td>\n",
       "      <td>w</td>\n",
       "      <td>w</td>\n",
       "      <td>p</td>\n",
       "      <td>w</td>\n",
       "      <td>o</td>\n",
       "      <td>p</td>\n",
       "      <td>n</td>\n",
       "      <td>n</td>\n",
       "      <td>m</td>\n",
       "    </tr>\n",
       "    <tr>\n",
       "      <th>3</th>\n",
       "      <td>p</td>\n",
       "      <td>x</td>\n",
       "      <td>y</td>\n",
       "      <td>w</td>\n",
       "      <td>t</td>\n",
       "      <td>p</td>\n",
       "      <td>f</td>\n",
       "      <td>c</td>\n",
       "      <td>n</td>\n",
       "      <td>n</td>\n",
       "      <td>...</td>\n",
       "      <td>s</td>\n",
       "      <td>w</td>\n",
       "      <td>w</td>\n",
       "      <td>p</td>\n",
       "      <td>w</td>\n",
       "      <td>o</td>\n",
       "      <td>p</td>\n",
       "      <td>k</td>\n",
       "      <td>s</td>\n",
       "      <td>u</td>\n",
       "    </tr>\n",
       "    <tr>\n",
       "      <th>4</th>\n",
       "      <td>e</td>\n",
       "      <td>x</td>\n",
       "      <td>s</td>\n",
       "      <td>g</td>\n",
       "      <td>f</td>\n",
       "      <td>n</td>\n",
       "      <td>f</td>\n",
       "      <td>w</td>\n",
       "      <td>b</td>\n",
       "      <td>k</td>\n",
       "      <td>...</td>\n",
       "      <td>s</td>\n",
       "      <td>w</td>\n",
       "      <td>w</td>\n",
       "      <td>p</td>\n",
       "      <td>w</td>\n",
       "      <td>o</td>\n",
       "      <td>e</td>\n",
       "      <td>n</td>\n",
       "      <td>a</td>\n",
       "      <td>g</td>\n",
       "    </tr>\n",
       "  </tbody>\n",
       "</table>\n",
       "<p>5 rows × 23 columns</p>\n",
       "</div>"
      ],
      "text/plain": [
       "  class cap-shape cap-surface cap-color bruises odor gill-attachment  \\\n",
       "0     p         x           s         n       t    p               f   \n",
       "1     e         x           s         y       t    a               f   \n",
       "2     e         b           s         w       t    l               f   \n",
       "3     p         x           y         w       t    p               f   \n",
       "4     e         x           s         g       f    n               f   \n",
       "\n",
       "  gill-spacing gill-size gill-color  ... stalk-surface-below-ring  \\\n",
       "0            c         n          k  ...                        s   \n",
       "1            c         b          k  ...                        s   \n",
       "2            c         b          n  ...                        s   \n",
       "3            c         n          n  ...                        s   \n",
       "4            w         b          k  ...                        s   \n",
       "\n",
       "  stalk-color-above-ring stalk-color-below-ring veil-type veil-color  \\\n",
       "0                      w                      w         p          w   \n",
       "1                      w                      w         p          w   \n",
       "2                      w                      w         p          w   \n",
       "3                      w                      w         p          w   \n",
       "4                      w                      w         p          w   \n",
       "\n",
       "  ring-number ring-type spore-print-color population habitat  \n",
       "0           o         p                 k          s       u  \n",
       "1           o         p                 n          n       g  \n",
       "2           o         p                 n          n       m  \n",
       "3           o         p                 k          s       u  \n",
       "4           o         e                 n          a       g  \n",
       "\n",
       "[5 rows x 23 columns]"
      ]
     },
     "execution_count": 3,
     "metadata": {},
     "output_type": "execute_result"
    }
   ],
   "source": [
    "df.head() # Show the first 5 rows of the dataframe"
   ]
  },
  {
   "cell_type": "markdown",
   "id": "a3760f70",
   "metadata": {},
   "source": [
    "<br>\n",
    "<br>"
   ]
  },
  {
   "attachments": {
    "mushroom.png": {
     "image/png": "[encoded data removed]"
    }
   },
   "cell_type": "markdown",
   "id": "14af6f32",
   "metadata": {},
   "source": [
    "![mushroom.png](attachment:mushroom.png)"
   ]
  },
  {
   "cell_type": "markdown",
   "id": "0345729e",
   "metadata": {},
   "source": [
    "The image was taken from an [Analytics Vidhya's article](https://medium.com/analytics-vidhya/mushroom-classification-edible-or-poisonous-9327a56c6fc9) but colors were added to it via the [GIMP software](https://www.gimp.org/).\n",
    "<br>\n",
    "<br>"
   ]
  },
  {
   "cell_type": "markdown",
   "id": "72aadaef",
   "metadata": {},
   "source": [
    "Based on the 10 features that are shown in the image above, our dataset has the following:\n",
    "<br>\n",
    " - 3 features for Cap (shape, surface, color)\n",
    " - 4 features for Gill (attachment, spacing, size, color)\n",
    " - 6 features for Stalk (shape, root, surface above ring, surface below ring, color above ring, color below ring)\n",
    " - 2 features for Veil (type, color)\n",
    " - 2 features for Ring (number, type)\n",
    " - 1 feature for Spores (color)\n",
    " - 4 additional features (bruises, odor, population, habitat)\n",
    " - and our target variable/label, class"
   ]
  },
  {
   "cell_type": "markdown",
   "id": "9bb56acd",
   "metadata": {},
   "source": [
    "<br>\n",
    "<br>\n",
    "<br>"
   ]
  },
  {
   "cell_type": "code",
   "execution_count": 4,
   "id": "c1ab6267",
   "metadata": {},
   "outputs": [
    {
     "data": {
      "text/plain": [
       "(8124, 23)"
      ]
     },
     "execution_count": 4,
     "metadata": {},
     "output_type": "execute_result"
    }
   ],
   "source": [
    "df.shape # Show the rows and columns of the dataframe"
   ]
  },
  {
   "cell_type": "markdown",
   "id": "74f99f21",
   "metadata": {},
   "source": [
    "#### What do these two number show?\n",
    "They indicate that our dataset consists of 23 variables in total from which 22 are the independent variables (features) and the other is the dependent variable (label) that characterise a mushroom having 8124 instances (single rows of data). All these features contribute in defining (the label) whether a mushroom is poisonous or edible.\n",
    "<br>\n",
    "<br>\n",
    "<br>"
   ]
  },
  {
   "cell_type": "code",
   "execution_count": 5,
   "id": "96accc14",
   "metadata": {},
   "outputs": [
    {
     "data": {
      "text/plain": [
       "class                       object\n",
       "cap-shape                   object\n",
       "cap-surface                 object\n",
       "cap-color                   object\n",
       "bruises                     object\n",
       "odor                        object\n",
       "gill-attachment             object\n",
       "gill-spacing                object\n",
       "gill-size                   object\n",
       "gill-color                  object\n",
       "stalk-shape                 object\n",
       "stalk-root                  object\n",
       "stalk-surface-above-ring    object\n",
       "stalk-surface-below-ring    object\n",
       "stalk-color-above-ring      object\n",
       "stalk-color-below-ring      object\n",
       "veil-type                   object\n",
       "veil-color                  object\n",
       "ring-number                 object\n",
       "ring-type                   object\n",
       "spore-print-color           object\n",
       "population                  object\n",
       "habitat                     object\n",
       "dtype: object"
      ]
     },
     "execution_count": 5,
     "metadata": {},
     "output_type": "execute_result"
    }
   ],
   "source": [
    "df.dtypes # Show the datatype of each column of the dataframe"
   ]
  },
  {
   "cell_type": "markdown",
   "id": "95b73bc4",
   "metadata": {},
   "source": [
    "#### How about this column of only objects in a single column?\n",
    "It indicates that every feature has a datatype of object; meaning that every feature contains categorical data.\n",
    "\n",
    "#### What is categorical data?\n",
    "Think of it this way. Only numbers are capable of producing numerical data. Every other type of data is categorical; it is a collection of information that has been classified into groups.\n",
    "<br>\n",
    "<br>\n",
    "<br>"
   ]
  },
  {
   "cell_type": "code",
   "execution_count": 6,
   "id": "26a66de0",
   "metadata": {},
   "outputs": [
    {
     "data": {
      "text/html": [
       "<div>\n",
       "<style scoped>\n",
       "    .dataframe tbody tr th:only-of-type {\n",
       "        vertical-align: middle;\n",
       "    }\n",
       "\n",
       "    .dataframe tbody tr th {\n",
       "        vertical-align: top;\n",
       "    }\n",
       "\n",
       "    .dataframe thead th {\n",
       "        text-align: right;\n",
       "    }\n",
       "</style>\n",
       "<table border=\"1\" class=\"dataframe\">\n",
       "  <thead>\n",
       "    <tr style=\"text-align: right;\">\n",
       "      <th></th>\n",
       "      <th>class</th>\n",
       "      <th>cap-shape</th>\n",
       "      <th>cap-surface</th>\n",
       "      <th>cap-color</th>\n",
       "      <th>bruises</th>\n",
       "      <th>odor</th>\n",
       "      <th>gill-attachment</th>\n",
       "      <th>gill-spacing</th>\n",
       "      <th>gill-size</th>\n",
       "      <th>gill-color</th>\n",
       "      <th>...</th>\n",
       "      <th>stalk-surface-below-ring</th>\n",
       "      <th>stalk-color-above-ring</th>\n",
       "      <th>stalk-color-below-ring</th>\n",
       "      <th>veil-type</th>\n",
       "      <th>veil-color</th>\n",
       "      <th>ring-number</th>\n",
       "      <th>ring-type</th>\n",
       "      <th>spore-print-color</th>\n",
       "      <th>population</th>\n",
       "      <th>habitat</th>\n",
       "    </tr>\n",
       "  </thead>\n",
       "  <tbody>\n",
       "    <tr>\n",
       "      <th>count</th>\n",
       "      <td>8124</td>\n",
       "      <td>8124</td>\n",
       "      <td>8124</td>\n",
       "      <td>8124</td>\n",
       "      <td>8124</td>\n",
       "      <td>8124</td>\n",
       "      <td>8124</td>\n",
       "      <td>8124</td>\n",
       "      <td>8124</td>\n",
       "      <td>8124</td>\n",
       "      <td>...</td>\n",
       "      <td>8124</td>\n",
       "      <td>8124</td>\n",
       "      <td>8124</td>\n",
       "      <td>8124</td>\n",
       "      <td>8124</td>\n",
       "      <td>8124</td>\n",
       "      <td>8124</td>\n",
       "      <td>8124</td>\n",
       "      <td>8124</td>\n",
       "      <td>8124</td>\n",
       "    </tr>\n",
       "    <tr>\n",
       "      <th>unique</th>\n",
       "      <td>2</td>\n",
       "      <td>6</td>\n",
       "      <td>4</td>\n",
       "      <td>10</td>\n",
       "      <td>2</td>\n",
       "      <td>9</td>\n",
       "      <td>2</td>\n",
       "      <td>2</td>\n",
       "      <td>2</td>\n",
       "      <td>12</td>\n",
       "      <td>...</td>\n",
       "      <td>4</td>\n",
       "      <td>9</td>\n",
       "      <td>9</td>\n",
       "      <td>1</td>\n",
       "      <td>4</td>\n",
       "      <td>3</td>\n",
       "      <td>5</td>\n",
       "      <td>9</td>\n",
       "      <td>6</td>\n",
       "      <td>7</td>\n",
       "    </tr>\n",
       "    <tr>\n",
       "      <th>top</th>\n",
       "      <td>e</td>\n",
       "      <td>x</td>\n",
       "      <td>y</td>\n",
       "      <td>n</td>\n",
       "      <td>f</td>\n",
       "      <td>n</td>\n",
       "      <td>f</td>\n",
       "      <td>c</td>\n",
       "      <td>b</td>\n",
       "      <td>b</td>\n",
       "      <td>...</td>\n",
       "      <td>s</td>\n",
       "      <td>w</td>\n",
       "      <td>w</td>\n",
       "      <td>p</td>\n",
       "      <td>w</td>\n",
       "      <td>o</td>\n",
       "      <td>p</td>\n",
       "      <td>w</td>\n",
       "      <td>v</td>\n",
       "      <td>d</td>\n",
       "    </tr>\n",
       "    <tr>\n",
       "      <th>freq</th>\n",
       "      <td>4208</td>\n",
       "      <td>3656</td>\n",
       "      <td>3244</td>\n",
       "      <td>2284</td>\n",
       "      <td>4748</td>\n",
       "      <td>3528</td>\n",
       "      <td>7914</td>\n",
       "      <td>6812</td>\n",
       "      <td>5612</td>\n",
       "      <td>1728</td>\n",
       "      <td>...</td>\n",
       "      <td>4936</td>\n",
       "      <td>4464</td>\n",
       "      <td>4384</td>\n",
       "      <td>8124</td>\n",
       "      <td>7924</td>\n",
       "      <td>7488</td>\n",
       "      <td>3968</td>\n",
       "      <td>2388</td>\n",
       "      <td>4040</td>\n",
       "      <td>3148</td>\n",
       "    </tr>\n",
       "  </tbody>\n",
       "</table>\n",
       "<p>4 rows × 23 columns</p>\n",
       "</div>"
      ],
      "text/plain": [
       "       class cap-shape cap-surface cap-color bruises  odor gill-attachment  \\\n",
       "count   8124      8124        8124      8124    8124  8124            8124   \n",
       "unique     2         6           4        10       2     9               2   \n",
       "top        e         x           y         n       f     n               f   \n",
       "freq    4208      3656        3244      2284    4748  3528            7914   \n",
       "\n",
       "       gill-spacing gill-size gill-color  ... stalk-surface-below-ring  \\\n",
       "count          8124      8124       8124  ...                     8124   \n",
       "unique            2         2         12  ...                        4   \n",
       "top               c         b          b  ...                        s   \n",
       "freq           6812      5612       1728  ...                     4936   \n",
       "\n",
       "       stalk-color-above-ring stalk-color-below-ring veil-type veil-color  \\\n",
       "count                    8124                   8124      8124       8124   \n",
       "unique                      9                      9         1          4   \n",
       "top                         w                      w         p          w   \n",
       "freq                     4464                   4384      8124       7924   \n",
       "\n",
       "       ring-number ring-type spore-print-color population habitat  \n",
       "count         8124      8124              8124       8124    8124  \n",
       "unique           3         5                 9          6       7  \n",
       "top              o         p                 w          v       d  \n",
       "freq          7488      3968              2388       4040    3148  \n",
       "\n",
       "[4 rows x 23 columns]"
      ]
     },
     "execution_count": 6,
     "metadata": {},
     "output_type": "execute_result"
    }
   ],
   "source": [
    "df.describe() # Show a description of the data of the dataframe"
   ]
  },
  {
   "cell_type": "markdown",
   "id": "05837610",
   "metadata": {},
   "source": [
    "#### Since our data is categorical, weren't we supposed to use df.describe(include[object]) method instead?\n",
    "Indeed, normally the function df.describe(include[object]) needs to be used in order to display the statistical summary of categorical data.\n",
    "<br>\n",
    "<br>\n",
    "However, as there is no numerical data in our dataset, even when using df.describe(), a statistical summary of the categorical data will be shown.\n",
    "<br>\n",
    "<br>\n",
    "<br>"
   ]
  },
  {
   "cell_type": "code",
   "execution_count": 7,
   "id": "fc6fb3e1",
   "metadata": {},
   "outputs": [
    {
     "data": {
      "text/plain": [
       "array(['p', 'e'], dtype=object)"
      ]
     },
     "execution_count": 7,
     "metadata": {},
     "output_type": "execute_result"
    }
   ],
   "source": [
    "df['class'].unique() # Show the unique values of the column class"
   ]
  },
  {
   "cell_type": "markdown",
   "id": "c972ecb4",
   "metadata": {},
   "source": [
    "It is clear that our target variable \"class\" only contains the values \"p\" and \"e\", which stand for poisonous and edible, respectively.\n",
    "<br>\n",
    "<br>"
   ]
  },
  {
   "cell_type": "markdown",
   "id": "99a01559",
   "metadata": {},
   "source": [
    "#### Checking for missing data"
   ]
  },
  {
   "cell_type": "code",
   "execution_count": 8,
   "id": "57210994",
   "metadata": {},
   "outputs": [
    {
     "data": {
      "text/plain": [
       "True"
      ]
     },
     "execution_count": 8,
     "metadata": {},
     "output_type": "execute_result"
    }
   ],
   "source": [
    "df.isnull().values.any() # Check if there is any NaN value in the dataframe"
   ]
  },
  {
   "cell_type": "markdown",
   "id": "5f29bcf9",
   "metadata": {},
   "source": [
    "Missing data is present in our dataset.\n",
    "<br>\n",
    "<br>\n",
    "<br>"
   ]
  },
  {
   "cell_type": "code",
   "execution_count": 9,
   "id": "396fa020",
   "metadata": {},
   "outputs": [
    {
     "data": {
      "text/plain": [
       "class                          0\n",
       "cap-shape                      0\n",
       "cap-surface                    0\n",
       "cap-color                      0\n",
       "bruises                        0\n",
       "odor                           0\n",
       "gill-attachment                0\n",
       "gill-spacing                   0\n",
       "gill-size                      0\n",
       "gill-color                     0\n",
       "stalk-shape                    0\n",
       "stalk-root                  2480\n",
       "stalk-surface-above-ring       0\n",
       "stalk-surface-below-ring       0\n",
       "stalk-color-above-ring         0\n",
       "stalk-color-below-ring         0\n",
       "veil-type                      0\n",
       "veil-color                     0\n",
       "ring-number                    0\n",
       "ring-type                      0\n",
       "spore-print-color              0\n",
       "population                     0\n",
       "habitat                        0\n",
       "dtype: int64"
      ]
     },
     "execution_count": 9,
     "metadata": {},
     "output_type": "execute_result"
    }
   ],
   "source": [
    "df.isnull().sum() # Show the total number of missing values each column has"
   ]
  },
  {
   "cell_type": "markdown",
   "id": "40622429",
   "metadata": {},
   "source": [
    "It is evident that the only variable that has missing data is the \"stalk-root\".\n",
    "<br>\n",
    "<br>\n",
    "<br>"
   ]
  },
  {
   "cell_type": "code",
   "execution_count": 10,
   "id": "9eaae1d6",
   "metadata": {},
   "outputs": [
    {
     "data": {
      "text/plain": [
       "b    3776\n",
       "e    1120\n",
       "c     556\n",
       "r     192\n",
       "Name: stalk-root, dtype: int64"
      ]
     },
     "execution_count": 10,
     "metadata": {},
     "output_type": "execute_result"
    }
   ],
   "source": [
    "df['stalk-root'].value_counts() # Show how many times each unique value occurs in the 'stalk-root' column"
   ]
  },
  {
   "cell_type": "markdown",
   "id": "edf05845",
   "metadata": {},
   "source": [
    "The most frequent value is the value \"b\" which stands for bulbous; thus, we will utilise the variable's mode to replace the 2480 missing values with that letter."
   ]
  },
  {
   "cell_type": "code",
   "execution_count": 11,
   "id": "7567a133",
   "metadata": {},
   "outputs": [],
   "source": [
    "df['stalk-root'].fillna(df['stalk-root'].mode()[0], inplace=True) # Replace NaN values with the mode's value"
   ]
  },
  {
   "cell_type": "markdown",
   "id": "94e1e500",
   "metadata": {},
   "source": [
    "If you're curious about how I know \"b\" was standing for bulbous, you can have a look at [mushroom.csv's \"Detail\" section](https://www.kaggle.com/datasets/uciml/mushroom-classification)."
   ]
  },
  {
   "cell_type": "markdown",
   "id": "7cbb2bcb",
   "metadata": {},
   "source": [
    "<br>\n",
    "<br>"
   ]
  },
  {
   "cell_type": "markdown",
   "id": "2ddf950c",
   "metadata": {},
   "source": [
    "#### Visualising the data"
   ]
  },
  {
   "cell_type": "markdown",
   "id": "349da7be",
   "metadata": {},
   "source": [
    "Most frequently, histograms are used to visualise outliers in numerical data.\n",
    "<br>\n",
    "However, since we only have categorical data, count plots—which are histograms spanning categorical variables—must be employed."
   ]
  },
  {
   "cell_type": "code",
   "execution_count": 12,
   "id": "a3bdfa7a",
   "metadata": {},
   "outputs": [],
   "source": [
    "%%capture\n",
    "\n",
    "! pip install matplotlib\n",
    "! pip install seaborn\n",
    "\n",
    "from matplotlib import pyplot as plt\n",
    "import seaborn as sns"
   ]
  },
  {
   "cell_type": "markdown",
   "id": "973b494e",
   "metadata": {},
   "source": [
    "<br>\n",
    "<br>\n",
    "<br>\n",
    "This will allow us to examine how often each value appears throughout its corresponding variable in respect of our label, 'class'."
   ]
  },
  {
   "cell_type": "code",
   "execution_count": 13,
   "id": "3442dc68",
   "metadata": {},
   "outputs": [
    {
     "data": {
      "image/png": "[encoded data removed]",
      "text/plain": [
       "<Figure size 640x480 with 1 Axes>"
      ]
     },
     "metadata": {},
     "output_type": "display_data"
    },
    {
     "data": {
      "image/png": "[encoded data removed]",
      "text/plain": [
       "<Figure size 640x480 with 1 Axes>"
      ]
     },
     "metadata": {},
     "output_type": "display_data"
    },
    {
     "data": {
      "image/png": "[encoded data removed]",
      "text/plain": [
       "<Figure size 640x480 with 1 Axes>"
      ]
     },
     "metadata": {},
     "output_type": "display_data"
    }
   ],
   "source": [
    "# Create a countplot for every variable and color encode the value in respect of our label\n",
    "for i, col in enumerate(df.columns):\n",
    "    # Create a figure for each variable of the dataset\n",
    "    plt.figure(i)\n",
    "\n",
    "    # Plot the figure for the specific variable and its corresponding values by color encoding them\n",
    "    sns_plot = sns.countplot(x=col, # Variable \n",
    "                             hue='class', # Color encoding based on our label\n",
    "                             data=df # Dataset\n",
    "                            )\n",
    "    \n",
    "    # Stop the loop at the third column\n",
    "    if i == 2:\n",
    "        break"
   ]
  },
  {
   "cell_type": "markdown",
   "id": "bdd8be70",
   "metadata": {},
   "source": [
    "<u>Note:</u> For convenience, just the countplots of the first three variables were displayed."
   ]
  },
  {
   "cell_type": "markdown",
   "id": "f09a0a3a",
   "metadata": {},
   "source": [
    "<br>\n",
    "<br>"
   ]
  },
  {
   "cell_type": "markdown",
   "id": "f1c28ea1",
   "metadata": {},
   "source": [
    "#### Checking if the dataset is balanced or imbalanced"
   ]
  },
  {
   "cell_type": "markdown",
   "id": "2ef6644e",
   "metadata": {},
   "source": [
    "The first countplot above may have already led us to infer that the proportion of edible to deadly mushrooms is almost equal.\n",
    "<br>\n",
    "However, all scepticism will be dispelled by discovering how many times each unique value of the target variable occurs."
   ]
  },
  {
   "cell_type": "code",
   "execution_count": 14,
   "id": "717472d8",
   "metadata": {},
   "outputs": [
    {
     "data": {
      "text/plain": [
       "e    4208\n",
       "p    3916\n",
       "Name: class, dtype: int64"
      ]
     },
     "execution_count": 14,
     "metadata": {},
     "output_type": "execute_result"
    }
   ],
   "source": [
    "df['class'].value_counts() # Show how many times each unique value occurs in the 'class' column"
   ]
  },
  {
   "cell_type": "markdown",
   "id": "5f535201",
   "metadata": {},
   "source": [
    "As can be seen, the edible and poisonous mushrooms are equal to 4208 and 3916 respectively which are close. \n",
    "<br>\n",
    "<br>\n",
    "That being said, it can be concluded that the dataset is balanced.\n",
    "<br>\n",
    "<br>\n"
   ]
  },
  {
   "cell_type": "markdown",
   "id": "418cdcbe",
   "metadata": {},
   "source": [
    "#### Encoding the categorical variables"
   ]
  },
  {
   "cell_type": "markdown",
   "id": "97ea6950",
   "metadata": {},
   "source": [
    "The data encoding technique employed is the label encoding where as its name suggests, it transforms the labels into a numeric form."
   ]
  },
  {
   "cell_type": "code",
   "execution_count": 15,
   "id": "57fa5ab8",
   "metadata": {},
   "outputs": [],
   "source": [
    "%%capture\n",
    "\n",
    "! pip install scikit-learn\n",
    "\n",
    "from sklearn.preprocessing import LabelEncoder"
   ]
  },
  {
   "cell_type": "code",
   "execution_count": 16,
   "id": "1e2f1f7f",
   "metadata": {},
   "outputs": [],
   "source": [
    "def encode_data(data):\n",
    "    le = LabelEncoder() # Initialize label encoder\n",
    "    \n",
    "    # Loop through all the columns\n",
    "    for col in data:\n",
    "        df[col] = le.fit_transform(df[col]) # Encode column\n",
    "        \n",
    "    return df\n",
    "      \n",
    "\n",
    "# Get encoded dataframe\n",
    "df = encode_data(df.columns)"
   ]
  },
  {
   "cell_type": "markdown",
   "id": "318cd30b",
   "metadata": {},
   "source": [
    "#### Why do we need to encode our data?\n",
    "Machine learning models require all input and output variables to be numeric. \n",
    "<br>\n",
    "Since all of our data is categorical, it must first be converted to numbers before we can fit and evaluate our model. \n",
    "<br>\n",
    "<br>\n",
    "<br>"
   ]
  },
  {
   "cell_type": "markdown",
   "id": "098552c4",
   "metadata": {},
   "source": [
    "We must ensure that the encoded values are all distinct from one another."
   ]
  },
  {
   "cell_type": "code",
   "execution_count": 17,
   "id": "5e04fea1",
   "metadata": {},
   "outputs": [
    {
     "name": "stdout",
     "output_type": "stream",
     "text": [
      "[3 2 0 4 5 1] \n",
      "\n"
     ]
    }
   ],
   "source": [
    "# Check that all the encoded values are different between them\n",
    "print(df['population'].unique(), \"\\n\")"
   ]
  },
  {
   "cell_type": "code",
   "execution_count": 18,
   "id": "b38d507e",
   "metadata": {},
   "outputs": [
    {
     "name": "stdout",
     "output_type": "stream",
     "text": [
      "class\n",
      "0    4208\n",
      "1    3916\n",
      "dtype: int64\n"
     ]
    }
   ],
   "source": [
    "# Check the size of the encoded values of the label 'class'\n",
    "print(df.groupby('class').size()) # 0 and 1"
   ]
  },
  {
   "cell_type": "markdown",
   "id": "1b274dfc",
   "metadata": {},
   "source": [
    "The fact that the encoded values have the same quantity as the uncoded values further demonstrates the success of the label encoding (4208, 3916). Thus, it follows that the numbers 0 and 1 correspond to edible and poisonous mushrooms, respectively.\n",
    "<br>\n",
    "<br>\n",
    "<br>"
   ]
  },
  {
   "cell_type": "markdown",
   "id": "6287e113",
   "metadata": {},
   "source": [
    "#### Splitting data\n",
    "Our data is frequently divided into training and test sets when we are building a machine learning model utilising certain data."
   ]
  },
  {
   "cell_type": "markdown",
   "id": "92335a6e",
   "metadata": {},
   "source": [
    "##### What is the difference between the Train set and Test set?\n",
    "The model is trained using the training set, then it is tested with data (test set) that it has never seen before.\n",
    "#### But why use data that has never been seen before?\n",
    "Training a model with such data, a final unbiased model performance assessment can be reached. More about it will be discussed further below at the Parameter Tuning stage.\n",
    "<br>\n",
    "<br>"
   ]
  },
  {
   "cell_type": "markdown",
   "id": "a3f61169",
   "metadata": {},
   "source": [
    "First, let's demonstrate how we divide the dataset's features and label."
   ]
  },
  {
   "cell_type": "code",
   "execution_count": 19,
   "id": "579bc57b",
   "metadata": {},
   "outputs": [
    {
     "data": {
      "text/html": [
       "<div>\n",
       "<style scoped>\n",
       "    .dataframe tbody tr th:only-of-type {\n",
       "        vertical-align: middle;\n",
       "    }\n",
       "\n",
       "    .dataframe tbody tr th {\n",
       "        vertical-align: top;\n",
       "    }\n",
       "\n",
       "    .dataframe thead th {\n",
       "        text-align: right;\n",
       "    }\n",
       "</style>\n",
       "<table border=\"1\" class=\"dataframe\">\n",
       "  <thead>\n",
       "    <tr style=\"text-align: right;\">\n",
       "      <th></th>\n",
       "      <th>cap-shape</th>\n",
       "      <th>cap-surface</th>\n",
       "      <th>cap-color</th>\n",
       "      <th>bruises</th>\n",
       "      <th>odor</th>\n",
       "      <th>gill-attachment</th>\n",
       "      <th>gill-spacing</th>\n",
       "      <th>gill-size</th>\n",
       "      <th>gill-color</th>\n",
       "      <th>stalk-shape</th>\n",
       "      <th>...</th>\n",
       "      <th>stalk-surface-below-ring</th>\n",
       "      <th>stalk-color-above-ring</th>\n",
       "      <th>stalk-color-below-ring</th>\n",
       "      <th>veil-type</th>\n",
       "      <th>veil-color</th>\n",
       "      <th>ring-number</th>\n",
       "      <th>ring-type</th>\n",
       "      <th>spore-print-color</th>\n",
       "      <th>population</th>\n",
       "      <th>habitat</th>\n",
       "    </tr>\n",
       "  </thead>\n",
       "  <tbody>\n",
       "    <tr>\n",
       "      <th>0</th>\n",
       "      <td>5</td>\n",
       "      <td>2</td>\n",
       "      <td>4</td>\n",
       "      <td>1</td>\n",
       "      <td>6</td>\n",
       "      <td>1</td>\n",
       "      <td>0</td>\n",
       "      <td>1</td>\n",
       "      <td>4</td>\n",
       "      <td>0</td>\n",
       "      <td>...</td>\n",
       "      <td>2</td>\n",
       "      <td>7</td>\n",
       "      <td>7</td>\n",
       "      <td>0</td>\n",
       "      <td>2</td>\n",
       "      <td>1</td>\n",
       "      <td>4</td>\n",
       "      <td>2</td>\n",
       "      <td>3</td>\n",
       "      <td>5</td>\n",
       "    </tr>\n",
       "    <tr>\n",
       "      <th>1</th>\n",
       "      <td>5</td>\n",
       "      <td>2</td>\n",
       "      <td>9</td>\n",
       "      <td>1</td>\n",
       "      <td>0</td>\n",
       "      <td>1</td>\n",
       "      <td>0</td>\n",
       "      <td>0</td>\n",
       "      <td>4</td>\n",
       "      <td>0</td>\n",
       "      <td>...</td>\n",
       "      <td>2</td>\n",
       "      <td>7</td>\n",
       "      <td>7</td>\n",
       "      <td>0</td>\n",
       "      <td>2</td>\n",
       "      <td>1</td>\n",
       "      <td>4</td>\n",
       "      <td>3</td>\n",
       "      <td>2</td>\n",
       "      <td>1</td>\n",
       "    </tr>\n",
       "    <tr>\n",
       "      <th>2</th>\n",
       "      <td>0</td>\n",
       "      <td>2</td>\n",
       "      <td>8</td>\n",
       "      <td>1</td>\n",
       "      <td>3</td>\n",
       "      <td>1</td>\n",
       "      <td>0</td>\n",
       "      <td>0</td>\n",
       "      <td>5</td>\n",
       "      <td>0</td>\n",
       "      <td>...</td>\n",
       "      <td>2</td>\n",
       "      <td>7</td>\n",
       "      <td>7</td>\n",
       "      <td>0</td>\n",
       "      <td>2</td>\n",
       "      <td>1</td>\n",
       "      <td>4</td>\n",
       "      <td>3</td>\n",
       "      <td>2</td>\n",
       "      <td>3</td>\n",
       "    </tr>\n",
       "    <tr>\n",
       "      <th>3</th>\n",
       "      <td>5</td>\n",
       "      <td>3</td>\n",
       "      <td>8</td>\n",
       "      <td>1</td>\n",
       "      <td>6</td>\n",
       "      <td>1</td>\n",
       "      <td>0</td>\n",
       "      <td>1</td>\n",
       "      <td>5</td>\n",
       "      <td>0</td>\n",
       "      <td>...</td>\n",
       "      <td>2</td>\n",
       "      <td>7</td>\n",
       "      <td>7</td>\n",
       "      <td>0</td>\n",
       "      <td>2</td>\n",
       "      <td>1</td>\n",
       "      <td>4</td>\n",
       "      <td>2</td>\n",
       "      <td>3</td>\n",
       "      <td>5</td>\n",
       "    </tr>\n",
       "    <tr>\n",
       "      <th>4</th>\n",
       "      <td>5</td>\n",
       "      <td>2</td>\n",
       "      <td>3</td>\n",
       "      <td>0</td>\n",
       "      <td>5</td>\n",
       "      <td>1</td>\n",
       "      <td>1</td>\n",
       "      <td>0</td>\n",
       "      <td>4</td>\n",
       "      <td>1</td>\n",
       "      <td>...</td>\n",
       "      <td>2</td>\n",
       "      <td>7</td>\n",
       "      <td>7</td>\n",
       "      <td>0</td>\n",
       "      <td>2</td>\n",
       "      <td>1</td>\n",
       "      <td>0</td>\n",
       "      <td>3</td>\n",
       "      <td>0</td>\n",
       "      <td>1</td>\n",
       "    </tr>\n",
       "  </tbody>\n",
       "</table>\n",
       "<p>5 rows × 22 columns</p>\n",
       "</div>"
      ],
      "text/plain": [
       "   cap-shape  cap-surface  cap-color  bruises  odor  gill-attachment  \\\n",
       "0          5            2          4        1     6                1   \n",
       "1          5            2          9        1     0                1   \n",
       "2          0            2          8        1     3                1   \n",
       "3          5            3          8        1     6                1   \n",
       "4          5            2          3        0     5                1   \n",
       "\n",
       "   gill-spacing  gill-size  gill-color  stalk-shape  ...  \\\n",
       "0             0          1           4            0  ...   \n",
       "1             0          0           4            0  ...   \n",
       "2             0          0           5            0  ...   \n",
       "3             0          1           5            0  ...   \n",
       "4             1          0           4            1  ...   \n",
       "\n",
       "   stalk-surface-below-ring  stalk-color-above-ring  stalk-color-below-ring  \\\n",
       "0                         2                       7                       7   \n",
       "1                         2                       7                       7   \n",
       "2                         2                       7                       7   \n",
       "3                         2                       7                       7   \n",
       "4                         2                       7                       7   \n",
       "\n",
       "   veil-type  veil-color  ring-number  ring-type  spore-print-color  \\\n",
       "0          0           2            1          4                  2   \n",
       "1          0           2            1          4                  3   \n",
       "2          0           2            1          4                  3   \n",
       "3          0           2            1          4                  2   \n",
       "4          0           2            1          0                  3   \n",
       "\n",
       "   population  habitat  \n",
       "0           3        5  \n",
       "1           2        1  \n",
       "2           2        3  \n",
       "3           3        5  \n",
       "4           0        1  \n",
       "\n",
       "[5 rows x 22 columns]"
      ]
     },
     "execution_count": 19,
     "metadata": {},
     "output_type": "execute_result"
    }
   ],
   "source": [
    "features = df.iloc[:, 1:] # All rows, all the features and no label\n",
    "\n",
    "features.head() # Show the first five rows of the 'features' dataframe"
   ]
  },
  {
   "cell_type": "code",
   "execution_count": 20,
   "id": "6cc777af",
   "metadata": {},
   "outputs": [
    {
     "data": {
      "text/plain": [
       "0    1\n",
       "1    0\n",
       "2    0\n",
       "3    1\n",
       "4    0\n",
       "Name: class, dtype: int64"
      ]
     },
     "execution_count": 20,
     "metadata": {},
     "output_type": "execute_result"
    }
   ],
   "source": [
    "target = df.iloc[:, 0] # All rows, label only\n",
    "\n",
    "target.head() # Show the first five rows of the 'target' dataframe"
   ]
  },
  {
   "cell_type": "markdown",
   "id": "6cddcc1e",
   "metadata": {},
   "source": [
    "<br>\n",
    "<br>\n",
    "<br>\n",
    "To ensure that the forms are in line to have a correct fit while training, it is necessary to examine the sizes of both the features and the target.\n",
    "<br>\n",
    "Otherwise, the process of learning could be disrupted by different shapes."
   ]
  },
  {
   "cell_type": "code",
   "execution_count": 21,
   "id": "c4d74591",
   "metadata": {},
   "outputs": [
    {
     "name": "stdout",
     "output_type": "stream",
     "text": [
      "Shape of features is  (8124, 22)\n",
      "Shape of target is  (8124,)\n"
     ]
    }
   ],
   "source": [
    "print(\"Shape of features is \", features.shape)\n",
    "print(\"Shape of target is \", target.shape)"
   ]
  },
  {
   "cell_type": "markdown",
   "id": "89075680",
   "metadata": {},
   "source": [
    "<u> As expected, we have: </u>\n",
    " - only one target (class)\n",
    " - 21 features (22 (features) - 1 (a feature has been dropped) = 21)\n",
    " - 8124 instances for both features and target"
   ]
  },
  {
   "cell_type": "markdown",
   "id": "4d758816",
   "metadata": {},
   "source": [
    "<br>"
   ]
  },
  {
   "cell_type": "code",
   "execution_count": 22,
   "id": "9dbf9e85",
   "metadata": {},
   "outputs": [],
   "source": [
    "from sklearn.model_selection import train_test_split\n",
    "\n",
    "def split_data(features, target):\n",
    "    \n",
    "    # Split the dataset into Train set and Test set\n",
    "    train_features, test_features, train_target, test_target = \\\n",
    "                                    train_test_split(features, target, test_size=0.2, random_state=42)\n",
    "    \n",
    "    return train_features, test_features, train_target, test_target\n",
    "\n",
    "\n",
    "# Get Train set and Test set\n",
    "train_features, test_features, train_target, test_target = split_data(features, target)"
   ]
  },
  {
   "cell_type": "markdown",
   "id": "d5bbbc06",
   "metadata": {},
   "source": [
    "The distinction between the train and test set was already covered above.\n",
    "<br>\n",
    "<br>\n",
    "A common split when using the hold-out approach employs 80% of the data for training and 20% for testing.\n",
    "\n",
    "#### Why exactly the numbers 80 and 20?\n",
    "Empirical studies show that the best results come from using 20–30% of the data for testing and the rest 70–80% for training. \n",
    "<br>\n",
    "Read the [Why 70/30 or 80/20 Relation Between Training and Testing Sets:\n",
    "A Pedagogical Explanation](https://scholarworks.utep.edu/cgi/viewcontent.cgi?article=2202&context=cs_techrep) paper for more details.\n",
    "<br>\n",
    "<br>\n",
    "<br>"
   ]
  },
  {
   "cell_type": "markdown",
   "id": "2db7a66e",
   "metadata": {},
   "source": [
    "Let's check if the data split was successful."
   ]
  },
  {
   "cell_type": "code",
   "execution_count": 23,
   "id": "fff5bc59",
   "metadata": {},
   "outputs": [
    {
     "name": "stdout",
     "output_type": "stream",
     "text": [
      "Shape of features in the train set:  (6499, 22)\n",
      "Shape of target in the train set:  (6499,)\n",
      "Shape of features in the test set:  (1625, 22)\n",
      "Shape of target in the test set:  (1625,)\n"
     ]
    }
   ],
   "source": [
    "print(\"Shape of features in the train set: \", train_features.shape)\n",
    "print(\"Shape of target in the train set: \", train_target.shape)\n",
    "print(\"Shape of features in the test set: \", test_features.shape)\n",
    "print(\"Shape of target in the test set: \", test_target.shape)"
   ]
  },
  {
   "cell_type": "markdown",
   "id": "aca0b6bb",
   "metadata": {},
   "source": [
    "<u> By doing</u>: 8124 (initial instances) * 80/100 (proportion of Train set) = 6499.2 ~ 6499 (instances) which verifies our Train set's size.\n",
    "<br>\n",
    "<br>\n",
    "<u> Same applies to the Test set</u>:\n",
    "<br>\n",
    "8124 (initial instances) * 20/100 (proportion of test set) = 1624.8 ~ 1625 (instances) which verifies our Test set's size.\n",
    "\n",
    "<br>\n",
    "<br>"
   ]
  },
  {
   "cell_type": "markdown",
   "id": "f1f2307c",
   "metadata": {},
   "source": [
    "#### Feature Scaling"
   ]
  },
  {
   "cell_type": "markdown",
   "id": "7099e6e3",
   "metadata": {},
   "source": [
    "##### What is Feature Scaling?\n",
    "It is a technique for normalising the range of independent variables (features) in data.\n",
    "<br>\n",
    "<br>\n",
    "That's why only the features (designated below as \"train_features\" and \"test_features\") are scaled.\n",
    "\n",
    "##### What does normalising the range of a variable mean?\n",
    "The data is transformed in such a manner to have a mean of 0 and a standard deviation of 1. \n",
    "<br>\n",
    "<br>\n",
    "<br>\n",
    "That’s where Standard Scaler comes into play. "
   ]
  },
  {
   "cell_type": "code",
   "execution_count": 24,
   "id": "1980c93a",
   "metadata": {},
   "outputs": [],
   "source": [
    "from sklearn.preprocessing import StandardScaler\n",
    "\n",
    "def standardise_data(train_features, test_features):\n",
    "    sc = StandardScaler() # Initialize Standard Scaler\n",
    "\n",
    "    train_features = sc.fit_transform(train_features) # Standardise features of train set\n",
    "    test_features = sc.transform(test_features) # Standardise features of test set\n",
    "    \n",
    "    return train_features, test_features\n",
    "\n",
    "\n",
    "# Get standardised features from both train and test sets\n",
    "train_features, test_features = standardise_data(train_features, test_features)"
   ]
  },
  {
   "cell_type": "markdown",
   "id": "0a6c121c",
   "metadata": {},
   "source": [
    "##### Why would we want to do something like that?\n",
    "To ensure internal consistency of the data.\n",
    "<br>\n",
    "<br>"
   ]
  },
  {
   "cell_type": "markdown",
   "id": "a2a305ab",
   "metadata": {},
   "source": [
    "### 3. Choosing a model"
   ]
  },
  {
   "cell_type": "markdown",
   "id": "a9298344",
   "metadata": {},
   "source": [
    "We have finally come to the point where a model needs to be chosen for both training and evaluating it. \n",
    "<br>\n",
    "Our chosen model is Logistic Regression as it is easy to be built and be trained."
   ]
  },
  {
   "cell_type": "code",
   "execution_count": 25,
   "id": "cb37730e",
   "metadata": {},
   "outputs": [],
   "source": [
    "from sklearn.linear_model import LogisticRegression\n",
    "\n",
    "# Initialize a Logistic Regression model\n",
    "model = LogisticRegression()"
   ]
  },
  {
   "cell_type": "markdown",
   "id": "d1eabfbb",
   "metadata": {},
   "source": [
    "<br>\n"
   ]
  },
  {
   "cell_type": "markdown",
   "id": "2ecbe6ca",
   "metadata": {},
   "source": [
    "### 4. Training the model"
   ]
  },
  {
   "cell_type": "markdown",
   "id": "36c82316",
   "metadata": {},
   "source": [
    "Our model needs to receive the anticipated training on the train set."
   ]
  },
  {
   "cell_type": "code",
   "execution_count": 26,
   "id": "584fdb3d",
   "metadata": {},
   "outputs": [
    {
     "data": {
      "text/html": [
       "<style>#sk-container-id-1 {color: black;background-color: white;}#sk-container-id-1 pre{padding: 0;}#sk-container-id-1 div.sk-toggleable {background-color: white;}#sk-container-id-1 label.sk-toggleable__label {cursor: pointer;display: block;width: 100%;margin-bottom: 0;padding: 0.3em;box-sizing: border-box;text-align: center;}#sk-container-id-1 label.sk-toggleable__label-arrow:before {content: \"▸\";float: left;margin-right: 0.25em;color: #696969;}#sk-container-id-1 label.sk-toggleable__label-arrow:hover:before {color: black;}#sk-container-id-1 div.sk-estimator:hover label.sk-toggleable__label-arrow:before {color: black;}#sk-container-id-1 div.sk-toggleable__content {max-height: 0;max-width: 0;overflow: hidden;text-align: left;background-color: #f0f8ff;}#sk-container-id-1 div.sk-toggleable__content pre {margin: 0.2em;color: black;border-radius: 0.25em;background-color: #f0f8ff;}#sk-container-id-1 input.sk-toggleable__control:checked~div.sk-toggleable__content {max-height: 200px;max-width: 100%;overflow: auto;}#sk-container-id-1 input.sk-toggleable__control:checked~label.sk-toggleable__label-arrow:before {content: \"▾\";}#sk-container-id-1 div.sk-estimator input.sk-toggleable__control:checked~label.sk-toggleable__label {background-color: #d4ebff;}#sk-container-id-1 div.sk-label input.sk-toggleable__control:checked~label.sk-toggleable__label {background-color: #d4ebff;}#sk-container-id-1 input.sk-hidden--visually {border: 0;clip: rect(1px 1px 1px 1px);clip: rect(1px, 1px, 1px, 1px);height: 1px;margin: -1px;overflow: hidden;padding: 0;position: absolute;width: 1px;}#sk-container-id-1 div.sk-estimator {font-family: monospace;background-color: #f0f8ff;border: 1px dotted black;border-radius: 0.25em;box-sizing: border-box;margin-bottom: 0.5em;}#sk-container-id-1 div.sk-estimator:hover {background-color: #d4ebff;}#sk-container-id-1 div.sk-parallel-item::after {content: \"\";width: 100%;border-bottom: 1px solid gray;flex-grow: 1;}#sk-container-id-1 div.sk-label:hover label.sk-toggleable__label {background-color: #d4ebff;}#sk-container-id-1 div.sk-serial::before {content: \"\";position: absolute;border-left: 1px solid gray;box-sizing: border-box;top: 0;bottom: 0;left: 50%;z-index: 0;}#sk-container-id-1 div.sk-serial {display: flex;flex-direction: column;align-items: center;background-color: white;padding-right: 0.2em;padding-left: 0.2em;position: relative;}#sk-container-id-1 div.sk-item {position: relative;z-index: 1;}#sk-container-id-1 div.sk-parallel {display: flex;align-items: stretch;justify-content: center;background-color: white;position: relative;}#sk-container-id-1 div.sk-item::before, #sk-container-id-1 div.sk-parallel-item::before {content: \"\";position: absolute;border-left: 1px solid gray;box-sizing: border-box;top: 0;bottom: 0;left: 50%;z-index: -1;}#sk-container-id-1 div.sk-parallel-item {display: flex;flex-direction: column;z-index: 1;position: relative;background-color: white;}#sk-container-id-1 div.sk-parallel-item:first-child::after {align-self: flex-end;width: 50%;}#sk-container-id-1 div.sk-parallel-item:last-child::after {align-self: flex-start;width: 50%;}#sk-container-id-1 div.sk-parallel-item:only-child::after {width: 0;}#sk-container-id-1 div.sk-dashed-wrapped {border: 1px dashed gray;margin: 0 0.4em 0.5em 0.4em;box-sizing: border-box;padding-bottom: 0.4em;background-color: white;}#sk-container-id-1 div.sk-label label {font-family: monospace;font-weight: bold;display: inline-block;line-height: 1.2em;}#sk-container-id-1 div.sk-label-container {text-align: center;}#sk-container-id-1 div.sk-container {/* jupyter's `normalize.less` sets `[hidden] { display: none; }` but bootstrap.min.css set `[hidden] { display: none !important; }` so we also need the `!important` here to be able to override the default hidden behavior on the sphinx rendered scikit-learn.org. See: https://github.com/scikit-learn/scikit-learn/issues/21755 */display: inline-block !important;position: relative;}#sk-container-id-1 div.sk-text-repr-fallback {display: none;}</style><div id=\"sk-container-id-1\" class=\"sk-top-container\"><div class=\"sk-text-repr-fallback\"><pre>LogisticRegression()</pre><b>In a Jupyter environment, please rerun this cell to show the HTML representation or trust the notebook. <br />On GitHub, the HTML representation is unable to render, please try loading this page with nbviewer.org.</b></div><div class=\"sk-container\" hidden><div class=\"sk-item\"><div class=\"sk-estimator sk-toggleable\"><input class=\"sk-toggleable__control sk-hidden--visually\" id=\"sk-estimator-id-1\" type=\"checkbox\" checked><label for=\"sk-estimator-id-1\" class=\"sk-toggleable__label sk-toggleable__label-arrow\">LogisticRegression</label><div class=\"sk-toggleable__content\"><pre>LogisticRegression()</pre></div></div></div></div></div>"
      ],
      "text/plain": [
       "LogisticRegression()"
      ]
     },
     "execution_count": 26,
     "metadata": {},
     "output_type": "execute_result"
    }
   ],
   "source": [
    "# Fit Logistic Regression\n",
    "model.fit(train_features, train_target)"
   ]
  },
  {
   "cell_type": "markdown",
   "id": "5185af0f",
   "metadata": {},
   "source": [
    "<br>"
   ]
  },
  {
   "cell_type": "markdown",
   "id": "f6b122b8",
   "metadata": {},
   "source": [
    "### 5. Evaluating the model"
   ]
  },
  {
   "cell_type": "markdown",
   "id": "bd88239d",
   "metadata": {},
   "source": [
    "For evaluating our Logistic Regression model, accuracy score needs to be found and\n",
    "confusion matrix needs to be plotted."
   ]
  },
  {
   "cell_type": "code",
   "execution_count": 27,
   "id": "8aa33004",
   "metadata": {},
   "outputs": [],
   "source": [
    "# Get the prediction of the target of the test set\n",
    "test_target_prediction = model.predict(test_features) # Predict class labels for samples in features of test set"
   ]
  },
  {
   "cell_type": "code",
   "execution_count": 28,
   "id": "e866be26",
   "metadata": {},
   "outputs": [
    {
     "name": "stdout",
     "output_type": "stream",
     "text": [
      "Accuracy score: 96.43076923076923\n"
     ]
    }
   ],
   "source": [
    "from sklearn.metrics import accuracy_score\n",
    "\n",
    "# Show accuracy score\n",
    "print(\"Accuracy score:\", accuracy_score(test_target, test_target_prediction, normalize=True) * 100)"
   ]
  },
  {
   "cell_type": "markdown",
   "id": "7e7de0ff",
   "metadata": {},
   "source": [
    "Our model has almost attained an accuracy of 97%, which is regarded fantastic.\n",
    "<br>\n",
    "Although working on a classification task, the optimum score is 100% accuracy.\n",
    "<br>\n",
    "As a result, we'll strive to enhance it even more using a tool called an optimizer.\n",
    "<br>\n",
    "<br>\n",
    "<br>"
   ]
  },
  {
   "cell_type": "markdown",
   "id": "d5a84bac",
   "metadata": {},
   "source": [
    "Before doing so, let's visualise the confusion matrix.\n",
    "\n",
    "#### Confusion Matrix, why does it have such a name?\n",
    "As its name suggests, it is straightforward to assess whether a model is confusing two classes; commonly mislabeling one as another.\n",
    "<br>\n",
    "<br>\n",
    "However, as it is a typical performance measurement for machine learning classification problems, we won't go into great depth. \n",
    "<br>I advise reading [Understanding Confusion Matrix](https://towardsdatascience.com/understanding-confusion-matrix-a9ad42dcfd62) if you're interested in learning more about it.\n",
    "<br>\n",
    "<br>\n",
    "<br>"
   ]
  },
  {
   "cell_type": "code",
   "execution_count": 29,
   "id": "c1e10631",
   "metadata": {},
   "outputs": [
    {
     "data": {
      "image/png": "[encoded data removed]",
      "text/plain": [
       "<Figure size 640x480 with 1 Axes>"
      ]
     },
     "metadata": {},
     "output_type": "display_data"
    }
   ],
   "source": [
    "from sklearn.metrics import confusion_matrix\n",
    "\n",
    "def visualise_conf_matrix(test_target, test_target_prediction):\n",
    "    # confusion matrix\n",
    "    cm = confusion_matrix(test_target, test_target_prediction)\n",
    "\n",
    "    sns.heatmap(cm, cmap='Blues', annot=True, fmt='d', cbar=False, yticklabels=['Edible', 'Poisonous'], \\\n",
    "                xticklabels=['Predicted Edible', 'Predicted Poisonous'])\n",
    "\n",
    "    plt.show()\n",
    "    \n",
    "\n",
    "visualise_conf_matrix(test_target, test_target_prediction)"
   ]
  },
  {
   "cell_type": "markdown",
   "id": "61e09f3b",
   "metadata": {},
   "source": [
    "The confusion matrix reveals that the model has correctly predicted 1567 out of 1625 observations, which is a decent result.\n",
    "<br>\n",
    "<br>"
   ]
  },
  {
   "cell_type": "markdown",
   "id": "bd3a8b29",
   "metadata": {},
   "source": [
    "### 6. Parameter Tuning"
   ]
  },
  {
   "cell_type": "markdown",
   "id": "73ef4eed",
   "metadata": {},
   "source": [
    "#### What is Parameter Tuning?\n",
    "It is the process of optimising a model's performance without overfitting or generating an excessive amount of variance by selecting the appropriate hyperparameters [5].\n",
    "\n",
    "#### When does overfitting occur?\n",
    "Overfitting occurs when a model performs well on training data but poorly on unseen data.\n",
    "<br>\n",
    "<br>\n",
    "<br>\n",
    "That's where Cross-validation enters the picture.\n",
    "<br>\n",
    "<br>\n",
    "<br>"
   ]
  },
  {
   "cell_type": "markdown",
   "id": "87cd6116",
   "metadata": {},
   "source": [
    "#### What is K-fold Cross-validation?\n",
    "K-fold Cross-validation is very similar to the Hold-out method, but it’s applied to more subsets. \n",
    "<br>\n",
    "<br>\n",
    "During K-fold Cross-validation, we do many splits, not just one like how the Hold-out method does. We are able to divide our data into 3, 5, 10, or any K number of splits/folds.\n",
    "<br>\n",
    "<br>"
   ]
  },
  {
   "cell_type": "markdown",
   "id": "b8f166ed",
   "metadata": {},
   "source": [
    "The data set is divided into five parts if we utilise 5-folds. A different part turns into the test set in every iteration.\n",
    "<br>\n",
    "<br>\n",
    "In the first iteration, we use the first part of the data for testing. Then, as illustrated in the\n",
    "image below, we use the other parts of the data set for training."
   ]
  },
  {
   "attachments": {
    "kfold.png": {
     "image/png": "[encoded data removed]"
    }
   },
   "cell_type": "markdown",
   "id": "cf1ee4e8",
   "metadata": {},
   "source": [
    "![kfold.png](attachment:kfold.png)"
   ]
  },
  {
   "cell_type": "markdown",
   "id": "91ffe8c5",
   "metadata": {},
   "source": [
    "The image was created using [draw.io](https://www.draw.io/connect/office365/index.html) but was inspired from [How to Implement K fold Cross-Validation in Scikit-Learn\n",
    "](https://www.section.io/engineering-education/how-to-implement-k-fold-cross-validation/) article.\n",
    "<br>\n",
    "<br>\n",
    "#### What problem would K-fold Cross-validation be able to help us with?\n",
    "What if one subset of our data has only mushrooms from a specific cap, gill or only\n",
    "mushrooms with the same stalk? Such a case would definitely lead to over-fitting but the goal is to avoid it."
   ]
  },
  {
   "cell_type": "markdown",
   "id": "7d3d203e",
   "metadata": {},
   "source": [
    "<br>\n",
    "<br>\n",
    "<br>\n",
    "The most popular number used for folds is 10 [7] and thus, that's the number we will move forward with."
   ]
  },
  {
   "cell_type": "code",
   "execution_count": 30,
   "id": "37783d2a",
   "metadata": {},
   "outputs": [],
   "source": [
    "from sklearn.model_selection import KFold\n",
    "\n",
    "cv = KFold(n_splits=10, random_state=42, shuffle=True)"
   ]
  },
  {
   "cell_type": "markdown",
   "id": "2e90435e",
   "metadata": {},
   "source": [
    "The model will then be finalised by averaging it against each of the folds."
   ]
  },
  {
   "cell_type": "code",
   "execution_count": 31,
   "id": "44c685c1",
   "metadata": {},
   "outputs": [
    {
     "name": "stdout",
     "output_type": "stream",
     "text": [
      "Cross validation scores: [0.68265683 0.88683887 0.9901599  0.99261993 0.908867   0.86330049\n",
      " 1.         0.99753695 0.62068966 0.99507389] \n",
      "\n",
      "Average accuracy: 89.37743503050794\n"
     ]
    }
   ],
   "source": [
    "from sklearn.model_selection import cross_val_score\n",
    "\n",
    "scores = cross_val_score(model, features, target, scoring=\"accuracy\", cv=10)\n",
    "\n",
    "print(\"Cross validation scores:\", scores, \"\\n\")\n",
    "print(\"Average accuracy: {}\".format(scores.mean() * 100))"
   ]
  },
  {
   "cell_type": "markdown",
   "id": "e255e767",
   "metadata": {},
   "source": [
    "<br>"
   ]
  },
  {
   "cell_type": "markdown",
   "id": "464c66af",
   "metadata": {},
   "source": [
    "#### GridSearchCV"
   ]
  },
  {
   "cell_type": "markdown",
   "id": "ff80337b",
   "metadata": {},
   "source": [
    "When fitting our model, we may test out all the possible combinations while specifying various values for each hyperparameter. \n",
    "<br>\n",
    "<br>\n",
    "GridSearchCV's outcome is the collection of hyperparameters (out of the various values provided) that best suit our data in terms of the scoring metric we want our model to optimize on [7]. In our case, the 'accuracy' metric is chosen.\n",
    "<br>\n",
    "<br>"
   ]
  },
  {
   "cell_type": "code",
   "execution_count": 32,
   "id": "f10d3dc1",
   "metadata": {},
   "outputs": [],
   "source": [
    "import numpy as np\n",
    "\n",
    "# a dictionary of parameters\n",
    "parameters = {\n",
    "'penalty' : ['l1','l2'],   \n",
    "'C'       : np.logspace(-3,3,7),\n",
    "'solver'  : ['newton-cg', 'lbfgs', 'liblinear'],\n",
    "}"
   ]
  },
  {
   "cell_type": "markdown",
   "id": "f1a07b15",
   "metadata": {},
   "source": [
    "The parameter grid (a dictionary containing all the various hyperparameters) used below was taken from a Medium article, [Tuning the Hyperparameters of your Machine Learning Model using GridSearchCV](https://towardsdatascience.com/tuning-the-hyperparameters-of-your-machine-learning-model-using-gridsearchcv-7fc2bb76ff27).\n",
    "<br>\n",
    "<br>\n",
    "<br>"
   ]
  },
  {
   "cell_type": "code",
   "execution_count": 36,
   "id": "ec20177e",
   "metadata": {},
   "outputs": [
    {
     "data": {
      "text/html": [
       "<style>#sk-container-id-3 {color: black;background-color: white;}#sk-container-id-3 pre{padding: 0;}#sk-container-id-3 div.sk-toggleable {background-color: white;}#sk-container-id-3 label.sk-toggleable__label {cursor: pointer;display: block;width: 100%;margin-bottom: 0;padding: 0.3em;box-sizing: border-box;text-align: center;}#sk-container-id-3 label.sk-toggleable__label-arrow:before {content: \"▸\";float: left;margin-right: 0.25em;color: #696969;}#sk-container-id-3 label.sk-toggleable__label-arrow:hover:before {color: black;}#sk-container-id-3 div.sk-estimator:hover label.sk-toggleable__label-arrow:before {color: black;}#sk-container-id-3 div.sk-toggleable__content {max-height: 0;max-width: 0;overflow: hidden;text-align: left;background-color: #f0f8ff;}#sk-container-id-3 div.sk-toggleable__content pre {margin: 0.2em;color: black;border-radius: 0.25em;background-color: #f0f8ff;}#sk-container-id-3 input.sk-toggleable__control:checked~div.sk-toggleable__content {max-height: 200px;max-width: 100%;overflow: auto;}#sk-container-id-3 input.sk-toggleable__control:checked~label.sk-toggleable__label-arrow:before {content: \"▾\";}#sk-container-id-3 div.sk-estimator input.sk-toggleable__control:checked~label.sk-toggleable__label {background-color: #d4ebff;}#sk-container-id-3 div.sk-label input.sk-toggleable__control:checked~label.sk-toggleable__label {background-color: #d4ebff;}#sk-container-id-3 input.sk-hidden--visually {border: 0;clip: rect(1px 1px 1px 1px);clip: rect(1px, 1px, 1px, 1px);height: 1px;margin: -1px;overflow: hidden;padding: 0;position: absolute;width: 1px;}#sk-container-id-3 div.sk-estimator {font-family: monospace;background-color: #f0f8ff;border: 1px dotted black;border-radius: 0.25em;box-sizing: border-box;margin-bottom: 0.5em;}#sk-container-id-3 div.sk-estimator:hover {background-color: #d4ebff;}#sk-container-id-3 div.sk-parallel-item::after {content: \"\";width: 100%;border-bottom: 1px solid gray;flex-grow: 1;}#sk-container-id-3 div.sk-label:hover label.sk-toggleable__label {background-color: #d4ebff;}#sk-container-id-3 div.sk-serial::before {content: \"\";position: absolute;border-left: 1px solid gray;box-sizing: border-box;top: 0;bottom: 0;left: 50%;z-index: 0;}#sk-container-id-3 div.sk-serial {display: flex;flex-direction: column;align-items: center;background-color: white;padding-right: 0.2em;padding-left: 0.2em;position: relative;}#sk-container-id-3 div.sk-item {position: relative;z-index: 1;}#sk-container-id-3 div.sk-parallel {display: flex;align-items: stretch;justify-content: center;background-color: white;position: relative;}#sk-container-id-3 div.sk-item::before, #sk-container-id-3 div.sk-parallel-item::before {content: \"\";position: absolute;border-left: 1px solid gray;box-sizing: border-box;top: 0;bottom: 0;left: 50%;z-index: -1;}#sk-container-id-3 div.sk-parallel-item {display: flex;flex-direction: column;z-index: 1;position: relative;background-color: white;}#sk-container-id-3 div.sk-parallel-item:first-child::after {align-self: flex-end;width: 50%;}#sk-container-id-3 div.sk-parallel-item:last-child::after {align-self: flex-start;width: 50%;}#sk-container-id-3 div.sk-parallel-item:only-child::after {width: 0;}#sk-container-id-3 div.sk-dashed-wrapped {border: 1px dashed gray;margin: 0 0.4em 0.5em 0.4em;box-sizing: border-box;padding-bottom: 0.4em;background-color: white;}#sk-container-id-3 div.sk-label label {font-family: monospace;font-weight: bold;display: inline-block;line-height: 1.2em;}#sk-container-id-3 div.sk-label-container {text-align: center;}#sk-container-id-3 div.sk-container {/* jupyter's `normalize.less` sets `[hidden] { display: none; }` but bootstrap.min.css set `[hidden] { display: none !important; }` so we also need the `!important` here to be able to override the default hidden behavior on the sphinx rendered scikit-learn.org. See: https://github.com/scikit-learn/scikit-learn/issues/21755 */display: inline-block !important;position: relative;}#sk-container-id-3 div.sk-text-repr-fallback {display: none;}</style><div id=\"sk-container-id-3\" class=\"sk-top-container\"><div class=\"sk-text-repr-fallback\"><pre>GridSearchCV(cv=10, estimator=LogisticRegression(),\n",
       "             param_grid={&#x27;C&#x27;: array([1.e-03, 1.e-02, 1.e-01, 1.e+00, 1.e+01, 1.e+02, 1.e+03]),\n",
       "                         &#x27;penalty&#x27;: [&#x27;l1&#x27;, &#x27;l2&#x27;],\n",
       "                         &#x27;solver&#x27;: [&#x27;newton-cg&#x27;, &#x27;lbfgs&#x27;, &#x27;liblinear&#x27;]},\n",
       "             scoring=&#x27;accuracy&#x27;)</pre><b>In a Jupyter environment, please rerun this cell to show the HTML representation or trust the notebook. <br />On GitHub, the HTML representation is unable to render, please try loading this page with nbviewer.org.</b></div><div class=\"sk-container\" hidden><div class=\"sk-item sk-dashed-wrapped\"><div class=\"sk-label-container\"><div class=\"sk-label sk-toggleable\"><input class=\"sk-toggleable__control sk-hidden--visually\" id=\"sk-estimator-id-5\" type=\"checkbox\" ><label for=\"sk-estimator-id-5\" class=\"sk-toggleable__label sk-toggleable__label-arrow\">GridSearchCV</label><div class=\"sk-toggleable__content\"><pre>GridSearchCV(cv=10, estimator=LogisticRegression(),\n",
       "             param_grid={&#x27;C&#x27;: array([1.e-03, 1.e-02, 1.e-01, 1.e+00, 1.e+01, 1.e+02, 1.e+03]),\n",
       "                         &#x27;penalty&#x27;: [&#x27;l1&#x27;, &#x27;l2&#x27;],\n",
       "                         &#x27;solver&#x27;: [&#x27;newton-cg&#x27;, &#x27;lbfgs&#x27;, &#x27;liblinear&#x27;]},\n",
       "             scoring=&#x27;accuracy&#x27;)</pre></div></div></div><div class=\"sk-parallel\"><div class=\"sk-parallel-item\"><div class=\"sk-item\"><div class=\"sk-label-container\"><div class=\"sk-label sk-toggleable\"><input class=\"sk-toggleable__control sk-hidden--visually\" id=\"sk-estimator-id-6\" type=\"checkbox\" ><label for=\"sk-estimator-id-6\" class=\"sk-toggleable__label sk-toggleable__label-arrow\">estimator: LogisticRegression</label><div class=\"sk-toggleable__content\"><pre>LogisticRegression()</pre></div></div></div><div class=\"sk-serial\"><div class=\"sk-item\"><div class=\"sk-estimator sk-toggleable\"><input class=\"sk-toggleable__control sk-hidden--visually\" id=\"sk-estimator-id-7\" type=\"checkbox\" ><label for=\"sk-estimator-id-7\" class=\"sk-toggleable__label sk-toggleable__label-arrow\">LogisticRegression</label><div class=\"sk-toggleable__content\"><pre>LogisticRegression()</pre></div></div></div></div></div></div></div></div></div></div>"
      ],
      "text/plain": [
       "GridSearchCV(cv=10, estimator=LogisticRegression(),\n",
       "             param_grid={'C': array([1.e-03, 1.e-02, 1.e-01, 1.e+00, 1.e+01, 1.e+02, 1.e+03]),\n",
       "                         'penalty': ['l1', 'l2'],\n",
       "                         'solver': ['newton-cg', 'lbfgs', 'liblinear']},\n",
       "             scoring='accuracy')"
      ]
     },
     "execution_count": 36,
     "metadata": {},
     "output_type": "execute_result"
    }
   ],
   "source": [
    "from sklearn.model_selection import GridSearchCV\n",
    "\n",
    "\n",
    "clf = GridSearchCV(model, # Model\n",
    "                    param_grid=parameters, # Hyperparameters\n",
    "                    scoring='accuracy', # Metric for scoring\n",
    "                    cv=10) # Number of folds\n",
    "\n",
    "\n",
    "# Train the model with the training_model set\n",
    "clf.fit(train_features, train_target)"
   ]
  },
  {
   "cell_type": "markdown",
   "id": "29d84fdc",
   "metadata": {},
   "source": [
    "<br>\n",
    "<br>"
   ]
  },
  {
   "cell_type": "markdown",
   "id": "f96163bc",
   "metadata": {},
   "source": [
    "GridSearchCV makes an effort to improve our score by adjusting the given parameters in order to identify the best ones."
   ]
  },
  {
   "cell_type": "code",
   "execution_count": 37,
   "id": "7e0bbec1",
   "metadata": {},
   "outputs": [
    {
     "name": "stdout",
     "output_type": "stream",
     "text": [
      "Best tuned hyperparameters : {'C': 1.0, 'penalty': 'l1', 'solver': 'liblinear'} \n",
      "\n",
      "Accuracy using GridSearchCV: 100.0\n"
     ]
    }
   ],
   "source": [
    "print(\"Best tuned hyperparameters :\", clf.best_params_, \"\\n\")\n",
    "print(\"Accuracy using GridSearchCV:\", clf.best_score_ * 100)"
   ]
  },
  {
   "cell_type": "markdown",
   "id": "d46950d3",
   "metadata": {},
   "source": [
    "<br>\n",
    "<br>"
   ]
  },
  {
   "cell_type": "markdown",
   "id": "58de47cf",
   "metadata": {},
   "source": [
    "### 7. Making Predictions"
   ]
  },
  {
   "cell_type": "markdown",
   "id": "5730f63b",
   "metadata": {},
   "source": [
    "<b> Logistic Regression: </b> 96.43076923076923\n",
    "<br>\n",
    "<b> After using K-fold Cross-Validation and GridSearchCV: </b> 100.0\n",
    "\n",
    "It is clear from comparing the two scores that using K-fold Cross-Validation along with GridSearchCV assisted us in improving the performance of our model.\n",
    "<br>\n",
    "<br>\n",
    "<br>"
   ]
  },
  {
   "cell_type": "markdown",
   "id": "a9776ee0",
   "metadata": {},
   "source": [
    "### 8. Food for thought"
   ]
  },
  {
   "cell_type": "markdown",
   "id": "c038e1cc",
   "metadata": {},
   "source": [
    "The question, \"Have we employed the wrong techniques?\" started running through my head when I unintentionally came across this Medium post titled [100% Accurate Mushroom Classification in Python](https://val0.medium.com/100-accurate-mushroom-classification-in-python-eac61da3bace), which used the same dataset we did and achieved the same accuracy score of 100% without the use of any parameter tuning techniques at all.\n",
    "<br>\n",
    "<br>\n",
    "After wrapping my head around and going through all the steps that the article's author went, I realised that One Hot Encoding was used, whereas we encoded our categorical data with Label Encoding.\n",
    "<br>\n",
    "<br>\n",
    "This [Mushroom Labelling](https://mrtjwhipple.medium.com/mushroom-labelling-db941388f0d0) article on Medium and [Training a machine to determine whether a mushroom is edible](https://inmachineswetrust.com/posts/mushroom-classification/) article on \"In Machines We Trust\" website shed light on as to what was the reason.\n",
    "<br>\n",
    "<br>\n",
    "<br>\n",
    "#### When should label encoding be used, then?\n",
    "When the distinct values of each categorical feature are ordinal. \n",
    "#### What does the term ordinal mean?\n",
    "It's when the data values can have some hierarchy or order. \n",
    "#### What kind of label encoding example may there be?\n",
    "For instance, since T-shirt sizes might range from small to extra large, it seems reasonable to list them as 1, 2, 3, and 4.\n",
    "<br>\n",
    "<br>\n",
    "<br>\n",
    "#### All of this makes sense, so why didn't it apply to our situation?\n",
    "All our categorical variables were nominal.\n",
    "#### What does the term nominal mean?\n",
    "It's when the data has no inherent order.\n",
    "#### Why did our data lack any kind of inherent order?\n",
    "Examples of possible colours for the cap-color feature were brown, buff, cinnamon, grey, punk, purple, red, white, and yellow. However, yellow doesn't have a value four times that of brown. Therefore, it makes no sense to label yellow as 8 and brown as 4.\n",
    "#### How do we know that yellow was 8 and brown was 4?\n",
    "The Label Ecoder method converts the attributes to integers depending on their alphabetical order.\n",
    "<br>\n",
    "<br>\n",
    "Since we had \"cap-color\":\n",
    " - **\"brown\"** (= n) \n",
    " - **\"buff\"** (= b) \n",
    " - **\"cinnamon\"** (= c) \n",
    " - **\"gray\"** (= g)\n",
    " - **\"green\"** (= r)\n",
    " - **\"pink\"** (= p) \n",
    " - **\"purple\"** (= u) \n",
    " - **\"red\"** (= e) \n",
    " - **\"white\"** (= w) \n",
    " - **\"yellow\"** (= y)\n",
    "<br>"
   ]
  },
  {
   "cell_type": "markdown",
   "id": "6db990ff",
   "metadata": {},
   "source": [
    "As a result, it can be said that yellow was the final attribute, while brown was the first.\n",
    "<br>\n",
    "<br>\n",
    "<br>\n",
    "<br>"
   ]
  },
  {
   "cell_type": "markdown",
   "id": "82c05c37",
   "metadata": {},
   "source": [
    "It can finally be said that using One Hot Encoding for the nominal categorical data in the [100% Accurate Mushroom Classification in Python](https://val0.medium.com/100-accurate-mushroom-classification-in-python-eac61da3bace) article makes sense now.\n",
    "<br>\n",
    "<br>\n",
    "<br>"
   ]
  },
  {
   "cell_type": "markdown",
   "id": "8fb43994",
   "metadata": {},
   "source": [
    "#### Based on the above discovery, has everything we have learned up to this point been for nothing?\n",
    "1. Every piece of knowledge we pick up is never wasted.\n",
    "2. Not really as using One hot encoding allows more possible combinations, which greatly complicates our task.\n",
    "\n",
    "#### How does One Hot Encoding complicates our task?\n",
    "As it adds a new column for each attribute of each feature, the number of columns will rapidly rise. That's where the curse of dimensionality comes. You can read more about it here, [The Curse of Dimensionality](https://towardsdatascience.com/the-curse-of-dimensionality-50dc6e49aa1e).\n",
    "\n",
    "#### How do we know that our dataset would not have the best result?\n",
    "Let's quickly demonstrate what the author of the [100% Accurate Mushroom Classification in Python](https://val0.medium.com/100-accurate-mushroom-classification-in-python-eac61da3bace) article did by using One hot encoding while avoiding simply one step."
   ]
  },
  {
   "cell_type": "code",
   "execution_count": 35,
   "id": "5693ffbb",
   "metadata": {},
   "outputs": [
    {
     "name": "stdout",
     "output_type": "stream",
     "text": [
      "Accuracy score: 100.0\n"
     ]
    },
    {
     "data": {
      "image/png": "[encoded data removed]",
      "text/plain": [
       "<Figure size 640x480 with 1 Axes>"
      ]
     },
     "metadata": {},
     "output_type": "display_data"
    }
   ],
   "source": [
    "# Load file and get it as a dataframe\n",
    "df1 = get_df_from_file()\n",
    "\n",
    "### THIS IS THE STEP WE ARE AVOIDING ###\n",
    "# Replace missing values\n",
    "#df1['stalk-root'].fillna(df1['stalk-root'].mode()[0], inplace=True)\n",
    "########################################\n",
    "\n",
    "dummies_columns1 = [list(df1.columns)[i] for i in np.arange(1,23)]\n",
    "df1 = pd.get_dummies(df1, columns=dummies_columns1)\n",
    "\n",
    "# Map target variable class: 1 = poisonous, 0 = edible\n",
    "df1['class'] = df1['class'].map({\"p\": 1, \"e\": 0})\n",
    "\n",
    "# Split data\n",
    "features = df1.iloc[:, 1:]\n",
    "target = df1.iloc[:, 0]\n",
    "\n",
    "# Training set and test set\n",
    "train_features, test_features, train_target, test_target = train_test_split(features, target, test_size=0.2, random_state=0)\n",
    "\n",
    "# Feature scaling\n",
    "train_features, test_features = standardise_data(train_features, test_features)\n",
    "\n",
    "# Choose Logistic Regression as our model and fit it\n",
    "model = LogisticRegression()\n",
    "model.fit(train_features, train_target)\n",
    "\n",
    "# Get the prediction of the target of the test set\n",
    "test_target_prediction = model.predict(test_features)\n",
    "\n",
    "# Print accuracy score\n",
    "print(\"Accuracy score:\", accuracy_score(test_target, test_target_prediction, normalize=True) * 100)\n",
    "\n",
    "# Visualise confusion matrix\n",
    "visualise_conf_matrix(test_target, test_target_prediction)"
   ]
  },
  {
   "cell_type": "markdown",
   "id": "54e9059b",
   "metadata": {},
   "source": [
    "As can be seen, we have omitted the step of replacing the missing data. As a consequence, although having noise (2480 missing values), the model shows that is 100% accurate. This is the finest illustration of overfitting.\n",
    "<br>\n",
    "<br>"
   ]
  },
  {
   "cell_type": "markdown",
   "id": "419f06c4",
   "metadata": {},
   "source": [
    "## Conclusion"
   ]
  },
  {
   "cell_type": "markdown",
   "id": "9b24c74a",
   "metadata": {},
   "source": [
    "Each method has its advantages and disadvantages.\n",
    "<br>\n",
    "<br>\n",
    "Label Encoding and the One Hot Encoding both yielded models that over-fit the data and had extremely high validation scores [8].\n",
    "<br>\n",
    "<br>\n",
    "I'll do more thorough investigation and update you on my findings soon.\n",
    "<br>\n",
    "<br>"
   ]
  },
  {
   "cell_type": "markdown",
   "id": "1e84794e",
   "metadata": {},
   "source": [
    "## Sources:\n",
    "1. [Why Logistic Regression?](https://kambria.io/blog/logistic-regression-for-machine-learning/)\n",
    "2. [Mushroom Classification dataset](https://www.kaggle.com/datasets/uciml/mushroom-classification)\n",
    "3. [What is Kaggle?](https://www.datacamp.com/blog/what-is-kaggle)\n",
    "4. [80%-20% splitting strategy](https://medium.com/@karyaozmen/how-to-split-train-and-test-data-c1381d240fc4)\n",
    "5. [What is Parameter Tuning?](https://riskspan.com/tuning-machine-learning-models/)\n",
    "6. [The reason why K equals to 10 is the most popular value used](https://machinelearningmastery.com/how-to-configure-k-fold-cross-validation/#:~:text=The%20key%20configuration%20parameter%20for,evaluate%20models%20is%20k%3D10.)\n",
    "7. [The dictionary of hyperparameters used for tuning the hyperparameters using GridSearchCV](https://towardsdatascience.com/tuning-the-hyperparameters-of-your-machine-learning-model-using-gridsearchcv-7fc2bb76ff27)\n",
    "8. [Mushroom Labelling](https://mrtjwhipple.medium.com/mushroom-labelling-db941388f0d0)"
   ]
  }
 ],
 "metadata": {
  "kernelspec": {
   "display_name": "Python 3 (ipykernel)",
   "language": "python",
   "name": "python3"
  },
  "language_info": {
   "codemirror_mode": {
    "name": "ipython",
    "version": 3
   },
   "file_extension": ".py",
   "mimetype": "text/x-python",
   "name": "python",
   "nbconvert_exporter": "python",
   "pygments_lexer": "ipython3",
   "version": "3.8.10"
  },
  "vscode": {
   "interpreter": {
    "hash": "e7370f93d1d0cde622a1f8e1c04877d8463912d04d973331ad4851f04de6915a"
   }
  }
 },
 "nbformat": 4,
 "nbformat_minor": 5
}
