{
 "cells": [
  {
   "cell_type": "markdown",
   "id": "b5a5308e",
   "metadata": {},
   "source": [
    "# Mushroom Classification"
   ]
  },
  {
   "cell_type": "markdown",
   "id": "3a454f75",
   "metadata": {},
   "source": [
    "# Abstract"
   ]
  },
  {
   "cell_type": "markdown",
   "id": "6a5f470e",
   "metadata": {},
   "source": [
    "In the food industry, it is essential to know if a mushroom is safe to consume (edible) or not (poisonous).\n",
    "\n",
    "A machine learning algorithm will assess whether a mushroom is a safe food or a lethal toxin by following seven steps.\n",
    "\n",
    "Logistic Regression has been selected as the model to use moving forward in order to complete our classification task. That's due to our problem, where the value of our target variable has a binary output, either belongs to one class (edible) or another (poisonous).\n",
    "\n",
    "An accuracy score of about 97% was achieved using a splitting strategy like K-fold Cross-Validation and an optimizer like GridSearchCV.\n",
    "\n",
    "A different method for achieving a score of 100% was demonstrated, along with an explanation of when label encoding should be preferred to one hot encoding."
   ]
  },
  {
   "cell_type": "markdown",
   "id": "a9c99771",
   "metadata": {},
   "source": [
    "# Objectives"
   ]
  },
  {
   "cell_type": "markdown",
   "id": "e264430d",
   "metadata": {},
   "source": [
    "* Discover where to obtain and gather open-sourced datasets so that we may begin building a machine learning model\n",
    "* Gain knowledge of how crucial data preparation is to the machine learning process\n",
    "* Find out how to feed the preprocessed data into a machine learning algorithm and assess the model using metrics like accuracy score and confusion matrix\n",
    "* Learn how to measure a model's stability with respect to constantly changing training and test data by using an alternative splitting approach to the conventional one, the holdout method\n",
    "* Tune a model's parameters using a method that finds the optimal parameter values from the supplied grid of parameters in order to improve a model's performance\n",
    "* Understand the difference between label encoding and one hot encoding"
   ]
  },
  {
   "cell_type": "markdown",
   "id": "c56532a9",
   "metadata": {},
   "source": [
    "# What sets my tutorial apart from other comparable online tutorials"
   ]
  },
  {
   "cell_type": "markdown",
   "id": "2829838d",
   "metadata": {},
   "source": [
    "Apart from thoroughly explaining why each part is used, even if most tutorials do not do; I needed to find something that would make my tutorial stand out.\n",
    "<br>\n",
    "<br>\n",
    "I noticed that no single tutorial shows the results of using a Label Encoder and One Hot Encoding for classifying a mushroom at once. It's either only the one, or the other, or a combination of the two but never all the cases together.\n",
    "<br>\n",
    "<br>\n",
    "In light of the fact that doing so might actually hasten a person's cognitive growth, I decided that compiling all relevant resources into a comprehensive tutorial would be the best course of action.\n",
    "<br>\n",
    "<br>\n",
    "<br>\n",
    "It all started by accidentally seeing this [100% Accurate Mushroom Classification in Python](https://val0.medium.com/100-accurate-mushroom-classification-in-python-eac61da3bace) article on Medium which uses the same dataset we will be using, an accuracy score of 100% was attained, whereas I could only achieve an approximate score of 97% even after using parameter tuning techniques. \n",
    "<br>\n",
    "<br>\n",
    "After wrapping my head around and going through all the steps that the article's author went, I realised that One Hot Encoding was used, whereas I was trying to encode my categorical data with Label Encoding.\n",
    "<br>\n",
    "<br>\n",
    "This [Mushroom Labelling](https://mrtjwhipple.medium.com/mushroom-labelling-db941388f0d0) article on Medium and [Training a machine to determine whether a mushroom is edible](https://inmachineswetrust.com/posts/mushroom-classification/) article on \"In Machines We Trust\" website shed light on as to what was the reason."
   ]
  },
  {
   "cell_type": "markdown",
   "id": "4613b0c2",
   "metadata": {},
   "source": [
    "## Summary of the approach\n",
    "### The 7 Machine Learning stages are the following:\n",
    "1. Collecting Data\n",
    "2. Exploratory Data Analysis and Data Preprocessing\n",
    "3. Choosing a model\n",
    "4. Training the model\n",
    "5. Evaluating the model\n",
    "6. Parameter Tuning\n",
    "7. Making Predictions"
   ]
  },
  {
   "cell_type": "markdown",
   "id": "7f51d5da",
   "metadata": {},
   "source": [
    "Let's delve into it to get a better understanding of what each stage really does."
   ]
  },
  {
   "cell_type": "markdown",
   "id": "5a748ba0",
   "metadata": {},
   "source": [
    "### 1. Collecting Data"
   ]
  },
  {
   "cell_type": "markdown",
   "id": "c84d0445",
   "metadata": {},
   "source": [
    "The most crucial phase of tackling any supervised machine learning issue is data collection. The most popular primary data gathering techniques include interviewing, observing, completing surveys and questionnaires, holding focus groups, recording oral histories, and web scraping.\n",
    "\n",
    "We are fortunate, though, since Kaggle exists.\n",
    "\n",
    "Kaggle is an online community for machine learning and data science aficionados. Users of Kaggle have the ability to work collaboratively, access and publish datasets, use notebooks with GPU integration, and compete with other data scientists to tackle data science issues [3].\n",
    "\n",
    "That being said, adopting an open-sourced dataset from the UCI Machine Learning [2] that has been posted on Kaggle would significantly simplify our lives."
   ]
  },
  {
   "cell_type": "code",
   "execution_count": 233,
   "id": "9169af70",
   "metadata": {},
   "outputs": [],
   "source": [
    "import warnings\n",
    "warnings.filterwarnings(\"ignore\")"
   ]
  },
  {
   "cell_type": "code",
   "execution_count": 234,
   "id": "bfb81d56",
   "metadata": {},
   "outputs": [],
   "source": [
    "%%capture\n",
    "\n",
    "! pip install pandas\n",
    "import pandas as pd\n",
    "\n",
    "def get_df_from_file():\n",
    "    missing_values = [\"na\", \"?\"]\n",
    "    df = pd.read_csv('mushrooms.csv', na_values = missing_values)\n",
    "    \n",
    "    return df\n",
    "\n",
    "\n",
    "df = get_df_from_file()"
   ]
  },
  {
   "cell_type": "markdown",
   "id": "5ca7261f",
   "metadata": {},
   "source": [
    "<u>Note:</u> The only reason we use functions for such simple tasks is because we will reuse the code at a later stage below."
   ]
  },
  {
   "cell_type": "markdown",
   "id": "e697b45e",
   "metadata": {},
   "source": [
    "<br>"
   ]
  },
  {
   "cell_type": "markdown",
   "id": "44401c26",
   "metadata": {},
   "source": [
    "### 2. Exploratory Data Analysis and Data Preprocessing"
   ]
  },
  {
   "cell_type": "markdown",
   "id": "86c29087",
   "metadata": {},
   "source": [
    "####  Understanding the data"
   ]
  },
  {
   "cell_type": "code",
   "execution_count": 235,
   "id": "ec29c4ed",
   "metadata": {
    "scrolled": true
   },
   "outputs": [
    {
     "data": {
      "text/html": [
       "<div>\n",
       "<style scoped>\n",
       "    .dataframe tbody tr th:only-of-type {\n",
       "        vertical-align: middle;\n",
       "    }\n",
       "\n",
       "    .dataframe tbody tr th {\n",
       "        vertical-align: top;\n",
       "    }\n",
       "\n",
       "    .dataframe thead th {\n",
       "        text-align: right;\n",
       "    }\n",
       "</style>\n",
       "<table border=\"1\" class=\"dataframe\">\n",
       "  <thead>\n",
       "    <tr style=\"text-align: right;\">\n",
       "      <th></th>\n",
       "      <th>class</th>\n",
       "      <th>cap-shape</th>\n",
       "      <th>cap-surface</th>\n",
       "      <th>cap-color</th>\n",
       "      <th>bruises</th>\n",
       "      <th>odor</th>\n",
       "      <th>gill-attachment</th>\n",
       "      <th>gill-spacing</th>\n",
       "      <th>gill-size</th>\n",
       "      <th>gill-color</th>\n",
       "      <th>...</th>\n",
       "      <th>stalk-surface-below-ring</th>\n",
       "      <th>stalk-color-above-ring</th>\n",
       "      <th>stalk-color-below-ring</th>\n",
       "      <th>veil-type</th>\n",
       "      <th>veil-color</th>\n",
       "      <th>ring-number</th>\n",
       "      <th>ring-type</th>\n",
       "      <th>spore-print-color</th>\n",
       "      <th>population</th>\n",
       "      <th>habitat</th>\n",
       "    </tr>\n",
       "  </thead>\n",
       "  <tbody>\n",
       "    <tr>\n",
       "      <th>0</th>\n",
       "      <td>p</td>\n",
       "      <td>x</td>\n",
       "      <td>s</td>\n",
       "      <td>n</td>\n",
       "      <td>t</td>\n",
       "      <td>p</td>\n",
       "      <td>f</td>\n",
       "      <td>c</td>\n",
       "      <td>n</td>\n",
       "      <td>k</td>\n",
       "      <td>...</td>\n",
       "      <td>s</td>\n",
       "      <td>w</td>\n",
       "      <td>w</td>\n",
       "      <td>p</td>\n",
       "      <td>w</td>\n",
       "      <td>o</td>\n",
       "      <td>p</td>\n",
       "      <td>k</td>\n",
       "      <td>s</td>\n",
       "      <td>u</td>\n",
       "    </tr>\n",
       "    <tr>\n",
       "      <th>1</th>\n",
       "      <td>e</td>\n",
       "      <td>x</td>\n",
       "      <td>s</td>\n",
       "      <td>y</td>\n",
       "      <td>t</td>\n",
       "      <td>a</td>\n",
       "      <td>f</td>\n",
       "      <td>c</td>\n",
       "      <td>b</td>\n",
       "      <td>k</td>\n",
       "      <td>...</td>\n",
       "      <td>s</td>\n",
       "      <td>w</td>\n",
       "      <td>w</td>\n",
       "      <td>p</td>\n",
       "      <td>w</td>\n",
       "      <td>o</td>\n",
       "      <td>p</td>\n",
       "      <td>n</td>\n",
       "      <td>n</td>\n",
       "      <td>g</td>\n",
       "    </tr>\n",
       "    <tr>\n",
       "      <th>2</th>\n",
       "      <td>e</td>\n",
       "      <td>b</td>\n",
       "      <td>s</td>\n",
       "      <td>w</td>\n",
       "      <td>t</td>\n",
       "      <td>l</td>\n",
       "      <td>f</td>\n",
       "      <td>c</td>\n",
       "      <td>b</td>\n",
       "      <td>n</td>\n",
       "      <td>...</td>\n",
       "      <td>s</td>\n",
       "      <td>w</td>\n",
       "      <td>w</td>\n",
       "      <td>p</td>\n",
       "      <td>w</td>\n",
       "      <td>o</td>\n",
       "      <td>p</td>\n",
       "      <td>n</td>\n",
       "      <td>n</td>\n",
       "      <td>m</td>\n",
       "    </tr>\n",
       "    <tr>\n",
       "      <th>3</th>\n",
       "      <td>p</td>\n",
       "      <td>x</td>\n",
       "      <td>y</td>\n",
       "      <td>w</td>\n",
       "      <td>t</td>\n",
       "      <td>p</td>\n",
       "      <td>f</td>\n",
       "      <td>c</td>\n",
       "      <td>n</td>\n",
       "      <td>n</td>\n",
       "      <td>...</td>\n",
       "      <td>s</td>\n",
       "      <td>w</td>\n",
       "      <td>w</td>\n",
       "      <td>p</td>\n",
       "      <td>w</td>\n",
       "      <td>o</td>\n",
       "      <td>p</td>\n",
       "      <td>k</td>\n",
       "      <td>s</td>\n",
       "      <td>u</td>\n",
       "    </tr>\n",
       "    <tr>\n",
       "      <th>4</th>\n",
       "      <td>e</td>\n",
       "      <td>x</td>\n",
       "      <td>s</td>\n",
       "      <td>g</td>\n",
       "      <td>f</td>\n",
       "      <td>n</td>\n",
       "      <td>f</td>\n",
       "      <td>w</td>\n",
       "      <td>b</td>\n",
       "      <td>k</td>\n",
       "      <td>...</td>\n",
       "      <td>s</td>\n",
       "      <td>w</td>\n",
       "      <td>w</td>\n",
       "      <td>p</td>\n",
       "      <td>w</td>\n",
       "      <td>o</td>\n",
       "      <td>e</td>\n",
       "      <td>n</td>\n",
       "      <td>a</td>\n",
       "      <td>g</td>\n",
       "    </tr>\n",
       "  </tbody>\n",
       "</table>\n",
       "<p>5 rows × 23 columns</p>\n",
       "</div>"
      ],
      "text/plain": [
       "  class cap-shape cap-surface cap-color bruises odor gill-attachment  \\\n",
       "0     p         x           s         n       t    p               f   \n",
       "1     e         x           s         y       t    a               f   \n",
       "2     e         b           s         w       t    l               f   \n",
       "3     p         x           y         w       t    p               f   \n",
       "4     e         x           s         g       f    n               f   \n",
       "\n",
       "  gill-spacing gill-size gill-color  ... stalk-surface-below-ring  \\\n",
       "0            c         n          k  ...                        s   \n",
       "1            c         b          k  ...                        s   \n",
       "2            c         b          n  ...                        s   \n",
       "3            c         n          n  ...                        s   \n",
       "4            w         b          k  ...                        s   \n",
       "\n",
       "  stalk-color-above-ring stalk-color-below-ring veil-type veil-color  \\\n",
       "0                      w                      w         p          w   \n",
       "1                      w                      w         p          w   \n",
       "2                      w                      w         p          w   \n",
       "3                      w                      w         p          w   \n",
       "4                      w                      w         p          w   \n",
       "\n",
       "  ring-number ring-type spore-print-color population habitat  \n",
       "0           o         p                 k          s       u  \n",
       "1           o         p                 n          n       g  \n",
       "2           o         p                 n          n       m  \n",
       "3           o         p                 k          s       u  \n",
       "4           o         e                 n          a       g  \n",
       "\n",
       "[5 rows x 23 columns]"
      ]
     },
     "execution_count": 235,
     "metadata": {},
     "output_type": "execute_result"
    }
   ],
   "source": [
    "df.head()"
   ]
  },
  {
   "cell_type": "markdown",
   "id": "a3760f70",
   "metadata": {},
   "source": [
    "<br>\n",
    "<br>"
   ]
  },
  {
   "cell_type": "markdown",
   "id": "52353086",
   "metadata": {},
   "source": [
    "<img src=\"mushroom.jpg\" width=\"500\">"
   ]
  },
  {
   "cell_type": "markdown",
   "id": "0345729e",
   "metadata": {},
   "source": [
    "The image was taken from an [Analytics Vidhya's article](https://medium.com/analytics-vidhya/mushroom-classification-edible-or-poisonous-9327a56c6fc9) but colors were added to it via the [GIMP software](https://www.gimp.org/).\n",
    "<br>\n",
    "<br>"
   ]
  },
  {
   "cell_type": "markdown",
   "id": "72aadaef",
   "metadata": {},
   "source": [
    "Based on the 10 features that are shown in the image above, our dataset has the following:\n",
    "<br>\n",
    " - 3 features for Cap (shape, surface, color)\n",
    " - 4 features for Gill (attachment, spacing, size, color)\n",
    " - 6 features for Stalk (shape, root, surface above ring, surface below ring, color above ring, color below ring)\n",
    " - 2 features for Veil (type, color)\n",
    " - 2 features for Ring (number, type)\n",
    " - 1 feature for Spores (color)\n",
    " - 4 additional features (bruises, odor, population, habitat)\n",
    " - and our target variable/label, class"
   ]
  },
  {
   "cell_type": "markdown",
   "id": "9bb56acd",
   "metadata": {},
   "source": [
    "<br>\n",
    "<br>\n",
    "<br>"
   ]
  },
  {
   "cell_type": "code",
   "execution_count": 236,
   "id": "c1ab6267",
   "metadata": {},
   "outputs": [
    {
     "data": {
      "text/plain": [
       "(8124, 23)"
      ]
     },
     "execution_count": 236,
     "metadata": {},
     "output_type": "execute_result"
    }
   ],
   "source": [
    "df.shape"
   ]
  },
  {
   "cell_type": "markdown",
   "id": "74f99f21",
   "metadata": {},
   "source": [
    "Our dataset consists of 22 independent variables (features) and a dependent variable (label) that characterise a mushroom having 8124 instances (single rows of data). All these features contribute in defining (the label) whether a mushroom is poisonous or edible.\n",
    "<br>\n",
    "<br>\n",
    "<br>"
   ]
  },
  {
   "cell_type": "code",
   "execution_count": 237,
   "id": "96accc14",
   "metadata": {},
   "outputs": [
    {
     "data": {
      "text/plain": [
       "class                       object\n",
       "cap-shape                   object\n",
       "cap-surface                 object\n",
       "cap-color                   object\n",
       "bruises                     object\n",
       "odor                        object\n",
       "gill-attachment             object\n",
       "gill-spacing                object\n",
       "gill-size                   object\n",
       "gill-color                  object\n",
       "stalk-shape                 object\n",
       "stalk-root                  object\n",
       "stalk-surface-above-ring    object\n",
       "stalk-surface-below-ring    object\n",
       "stalk-color-above-ring      object\n",
       "stalk-color-below-ring      object\n",
       "veil-type                   object\n",
       "veil-color                  object\n",
       "ring-number                 object\n",
       "ring-type                   object\n",
       "spore-print-color           object\n",
       "population                  object\n",
       "habitat                     object\n",
       "dtype: object"
      ]
     },
     "execution_count": 237,
     "metadata": {},
     "output_type": "execute_result"
    }
   ],
   "source": [
    "df.dtypes"
   ]
  },
  {
   "cell_type": "markdown",
   "id": "95b73bc4",
   "metadata": {},
   "source": [
    "It is evident that every feature has a datatype of object, indicating that every feature contains categorical data.\n",
    "<br>\n",
    "<br>\n",
    "<br>"
   ]
  },
  {
   "cell_type": "code",
   "execution_count": 238,
   "id": "26a66de0",
   "metadata": {},
   "outputs": [
    {
     "data": {
      "text/html": [
       "<div>\n",
       "<style scoped>\n",
       "    .dataframe tbody tr th:only-of-type {\n",
       "        vertical-align: middle;\n",
       "    }\n",
       "\n",
       "    .dataframe tbody tr th {\n",
       "        vertical-align: top;\n",
       "    }\n",
       "\n",
       "    .dataframe thead th {\n",
       "        text-align: right;\n",
       "    }\n",
       "</style>\n",
       "<table border=\"1\" class=\"dataframe\">\n",
       "  <thead>\n",
       "    <tr style=\"text-align: right;\">\n",
       "      <th></th>\n",
       "      <th>class</th>\n",
       "      <th>cap-shape</th>\n",
       "      <th>cap-surface</th>\n",
       "      <th>cap-color</th>\n",
       "      <th>bruises</th>\n",
       "      <th>odor</th>\n",
       "      <th>gill-attachment</th>\n",
       "      <th>gill-spacing</th>\n",
       "      <th>gill-size</th>\n",
       "      <th>gill-color</th>\n",
       "      <th>...</th>\n",
       "      <th>stalk-surface-below-ring</th>\n",
       "      <th>stalk-color-above-ring</th>\n",
       "      <th>stalk-color-below-ring</th>\n",
       "      <th>veil-type</th>\n",
       "      <th>veil-color</th>\n",
       "      <th>ring-number</th>\n",
       "      <th>ring-type</th>\n",
       "      <th>spore-print-color</th>\n",
       "      <th>population</th>\n",
       "      <th>habitat</th>\n",
       "    </tr>\n",
       "  </thead>\n",
       "  <tbody>\n",
       "    <tr>\n",
       "      <th>count</th>\n",
       "      <td>8124</td>\n",
       "      <td>8124</td>\n",
       "      <td>8124</td>\n",
       "      <td>8124</td>\n",
       "      <td>8124</td>\n",
       "      <td>8124</td>\n",
       "      <td>8124</td>\n",
       "      <td>8124</td>\n",
       "      <td>8124</td>\n",
       "      <td>8124</td>\n",
       "      <td>...</td>\n",
       "      <td>8124</td>\n",
       "      <td>8124</td>\n",
       "      <td>8124</td>\n",
       "      <td>8124</td>\n",
       "      <td>8124</td>\n",
       "      <td>8124</td>\n",
       "      <td>8124</td>\n",
       "      <td>8124</td>\n",
       "      <td>8124</td>\n",
       "      <td>8124</td>\n",
       "    </tr>\n",
       "    <tr>\n",
       "      <th>unique</th>\n",
       "      <td>2</td>\n",
       "      <td>6</td>\n",
       "      <td>4</td>\n",
       "      <td>10</td>\n",
       "      <td>2</td>\n",
       "      <td>9</td>\n",
       "      <td>2</td>\n",
       "      <td>2</td>\n",
       "      <td>2</td>\n",
       "      <td>12</td>\n",
       "      <td>...</td>\n",
       "      <td>4</td>\n",
       "      <td>9</td>\n",
       "      <td>9</td>\n",
       "      <td>1</td>\n",
       "      <td>4</td>\n",
       "      <td>3</td>\n",
       "      <td>5</td>\n",
       "      <td>9</td>\n",
       "      <td>6</td>\n",
       "      <td>7</td>\n",
       "    </tr>\n",
       "    <tr>\n",
       "      <th>top</th>\n",
       "      <td>e</td>\n",
       "      <td>x</td>\n",
       "      <td>y</td>\n",
       "      <td>n</td>\n",
       "      <td>f</td>\n",
       "      <td>n</td>\n",
       "      <td>f</td>\n",
       "      <td>c</td>\n",
       "      <td>b</td>\n",
       "      <td>b</td>\n",
       "      <td>...</td>\n",
       "      <td>s</td>\n",
       "      <td>w</td>\n",
       "      <td>w</td>\n",
       "      <td>p</td>\n",
       "      <td>w</td>\n",
       "      <td>o</td>\n",
       "      <td>p</td>\n",
       "      <td>w</td>\n",
       "      <td>v</td>\n",
       "      <td>d</td>\n",
       "    </tr>\n",
       "    <tr>\n",
       "      <th>freq</th>\n",
       "      <td>4208</td>\n",
       "      <td>3656</td>\n",
       "      <td>3244</td>\n",
       "      <td>2284</td>\n",
       "      <td>4748</td>\n",
       "      <td>3528</td>\n",
       "      <td>7914</td>\n",
       "      <td>6812</td>\n",
       "      <td>5612</td>\n",
       "      <td>1728</td>\n",
       "      <td>...</td>\n",
       "      <td>4936</td>\n",
       "      <td>4464</td>\n",
       "      <td>4384</td>\n",
       "      <td>8124</td>\n",
       "      <td>7924</td>\n",
       "      <td>7488</td>\n",
       "      <td>3968</td>\n",
       "      <td>2388</td>\n",
       "      <td>4040</td>\n",
       "      <td>3148</td>\n",
       "    </tr>\n",
       "  </tbody>\n",
       "</table>\n",
       "<p>4 rows × 23 columns</p>\n",
       "</div>"
      ],
      "text/plain": [
       "       class cap-shape cap-surface cap-color bruises  odor gill-attachment  \\\n",
       "count   8124      8124        8124      8124    8124  8124            8124   \n",
       "unique     2         6           4        10       2     9               2   \n",
       "top        e         x           y         n       f     n               f   \n",
       "freq    4208      3656        3244      2284    4748  3528            7914   \n",
       "\n",
       "       gill-spacing gill-size gill-color  ... stalk-surface-below-ring  \\\n",
       "count          8124      8124       8124  ...                     8124   \n",
       "unique            2         2         12  ...                        4   \n",
       "top               c         b          b  ...                        s   \n",
       "freq           6812      5612       1728  ...                     4936   \n",
       "\n",
       "       stalk-color-above-ring stalk-color-below-ring veil-type veil-color  \\\n",
       "count                    8124                   8124      8124       8124   \n",
       "unique                      9                      9         1          4   \n",
       "top                         w                      w         p          w   \n",
       "freq                     4464                   4384      8124       7924   \n",
       "\n",
       "       ring-number ring-type spore-print-color population habitat  \n",
       "count         8124      8124              8124       8124    8124  \n",
       "unique           3         5                 9          6       7  \n",
       "top              o         p                 w          v       d  \n",
       "freq          7488      3968              2388       4040    3148  \n",
       "\n",
       "[4 rows x 23 columns]"
      ]
     },
     "execution_count": 238,
     "metadata": {},
     "output_type": "execute_result"
    }
   ],
   "source": [
    "df.describe()"
   ]
  },
  {
   "cell_type": "markdown",
   "id": "05837610",
   "metadata": {},
   "source": [
    "Normally, the function df.describe(include[object]) needs to be used in order to view the statistical summary of categorical data.\n",
    "<br>\n",
    "<br>\n",
    "However, as there are no numerical data in our dataset, even when using df.describe(), a statistical summary of the categorical data will be shown.\n",
    "<br>\n",
    "<br>\n",
    "<br>"
   ]
  },
  {
   "cell_type": "code",
   "execution_count": 239,
   "id": "fc6fb3e1",
   "metadata": {},
   "outputs": [
    {
     "data": {
      "text/plain": [
       "array(['p', 'e'], dtype=object)"
      ]
     },
     "execution_count": 239,
     "metadata": {},
     "output_type": "execute_result"
    }
   ],
   "source": [
    "df['class'].unique()"
   ]
  },
  {
   "cell_type": "markdown",
   "id": "c972ecb4",
   "metadata": {},
   "source": [
    "It is clear that our target column \"class\" only contains the values \"p\" and \"e\", which stand for poisonous and edible, respectively.\n",
    "<br>\n",
    "<br>"
   ]
  },
  {
   "cell_type": "markdown",
   "id": "99a01559",
   "metadata": {},
   "source": [
    "#### Checking for missing data"
   ]
  },
  {
   "cell_type": "code",
   "execution_count": 240,
   "id": "57210994",
   "metadata": {},
   "outputs": [
    {
     "data": {
      "text/plain": [
       "True"
      ]
     },
     "execution_count": 240,
     "metadata": {},
     "output_type": "execute_result"
    }
   ],
   "source": [
    "df.isnull().values.any()"
   ]
  },
  {
   "cell_type": "markdown",
   "id": "5f29bcf9",
   "metadata": {},
   "source": [
    "Missing data are present in our dataset.\n",
    "<br>\n",
    "<br>\n",
    "<br>"
   ]
  },
  {
   "cell_type": "code",
   "execution_count": 241,
   "id": "396fa020",
   "metadata": {},
   "outputs": [
    {
     "data": {
      "text/plain": [
       "class                          0\n",
       "cap-shape                      0\n",
       "cap-surface                    0\n",
       "cap-color                      0\n",
       "bruises                        0\n",
       "odor                           0\n",
       "gill-attachment                0\n",
       "gill-spacing                   0\n",
       "gill-size                      0\n",
       "gill-color                     0\n",
       "stalk-shape                    0\n",
       "stalk-root                  2480\n",
       "stalk-surface-above-ring       0\n",
       "stalk-surface-below-ring       0\n",
       "stalk-color-above-ring         0\n",
       "stalk-color-below-ring         0\n",
       "veil-type                      0\n",
       "veil-color                     0\n",
       "ring-number                    0\n",
       "ring-type                      0\n",
       "spore-print-color              0\n",
       "population                     0\n",
       "habitat                        0\n",
       "dtype: int64"
      ]
     },
     "execution_count": 241,
     "metadata": {},
     "output_type": "execute_result"
    }
   ],
   "source": [
    "df.isnull().sum()"
   ]
  },
  {
   "cell_type": "markdown",
   "id": "40622429",
   "metadata": {},
   "source": [
    "The only variable that has missing data is the stalk-root.\n",
    "<br>\n",
    "<br>\n",
    "<br>"
   ]
  },
  {
   "cell_type": "code",
   "execution_count": 242,
   "id": "9eaae1d6",
   "metadata": {},
   "outputs": [
    {
     "data": {
      "text/plain": [
       "b    3776\n",
       "e    1120\n",
       "c     556\n",
       "r     192\n",
       "Name: stalk-root, dtype: int64"
      ]
     },
     "execution_count": 242,
     "metadata": {},
     "output_type": "execute_result"
    }
   ],
   "source": [
    "df['stalk-root'].value_counts()"
   ]
  },
  {
   "cell_type": "markdown",
   "id": "edf05845",
   "metadata": {},
   "source": [
    "The most frequent value is the value \"b\" which stands for bulbous; thus, we will utilise mode to replace the 2480 missing values with that letter."
   ]
  },
  {
   "cell_type": "code",
   "execution_count": 243,
   "id": "7567a133",
   "metadata": {},
   "outputs": [],
   "source": [
    "df['stalk-root'].fillna(df['stalk-root'].mode()[0], inplace=True)"
   ]
  },
  {
   "cell_type": "markdown",
   "id": "94e1e500",
   "metadata": {},
   "source": [
    "If you're curious about how I know what it stands for, you can have a look at [mushroom.csv's \"Detail\" section](https://www.kaggle.com/datasets/uciml/mushroom-classification)."
   ]
  },
  {
   "cell_type": "markdown",
   "id": "7cbb2bcb",
   "metadata": {},
   "source": [
    "<br>\n",
    "<br>"
   ]
  },
  {
   "cell_type": "markdown",
   "id": "2ddf950c",
   "metadata": {},
   "source": [
    "#### Visualising the data"
   ]
  },
  {
   "cell_type": "markdown",
   "id": "349da7be",
   "metadata": {},
   "source": [
    "Most frequently, histograms are used to visualise outliers in numerical data.\n",
    "<br>\n",
    "However, since we only have categorical data, count plots—which are histograms spanning categorical variables—must be employed."
   ]
  },
  {
   "cell_type": "code",
   "execution_count": 244,
   "id": "a3bdfa7a",
   "metadata": {},
   "outputs": [],
   "source": [
    "%%capture\n",
    "\n",
    "! pip install matplotlib\n",
    "! pip install seaborn\n",
    "\n",
    "from matplotlib import pyplot as plt\n",
    "import seaborn as sns"
   ]
  },
  {
   "cell_type": "markdown",
   "id": "973b494e",
   "metadata": {},
   "source": [
    "<br>\n",
    "<br>\n",
    "<br>\n",
    "This will allow us to examine how often each value appears throughout its corresponding variable in respect of our label, 'class'."
   ]
  },
  {
   "cell_type": "code",
   "execution_count": 245,
   "id": "3442dc68",
   "metadata": {},
   "outputs": [
    {
     "data": {
      "image/png": "[encoded data removed]",
      "text/plain": [
       "<Figure size 640x480 with 1 Axes>"
      ]
     },
     "metadata": {},
     "output_type": "display_data"
    },
    {
     "data": {
      "image/png": "[encoded data removed]",
      "text/plain": [
       "<Figure size 640x480 with 1 Axes>"
      ]
     },
     "metadata": {},
     "output_type": "display_data"
    },
    {
     "data": {
      "image/png": "[encoded data removed]",
      "text/plain": [
       "<Figure size 640x480 with 1 Axes>"
      ]
     },
     "metadata": {},
     "output_type": "display_data"
    }
   ],
   "source": [
    "# create a countplot for every variable and color encode the value in respect of our label\n",
    "for i, col in enumerate(df.columns):\n",
    "    # create a figure for each variable of the dataset\n",
    "    plt.figure(i)\n",
    "\n",
    "    # plot the figure for the specific variable and its corresponding values by color encoding them\n",
    "    sns_plot = sns.countplot(x=col, # variable \n",
    "                             hue='class', # color encoding based on our label\n",
    "                             data=df # dataset\n",
    "                            )\n",
    "    \n",
    "    if i == 2:\n",
    "        break"
   ]
  },
  {
   "cell_type": "markdown",
   "id": "bdd8be70",
   "metadata": {},
   "source": [
    "<u>Note:</u> For convenience, just the countplots of the first three variables were displayed."
   ]
  },
  {
   "cell_type": "markdown",
   "id": "f09a0a3a",
   "metadata": {},
   "source": [
    "<br>\n",
    "<br>"
   ]
  },
  {
   "cell_type": "markdown",
   "id": "f1c28ea1",
   "metadata": {},
   "source": [
    "#### Checking if the dataset is balanced or imbalanced"
   ]
  },
  {
   "cell_type": "code",
   "execution_count": 246,
   "id": "717472d8",
   "metadata": {},
   "outputs": [
    {
     "data": {
      "text/plain": [
       "e    4208\n",
       "p    3916\n",
       "Name: class, dtype: int64"
      ]
     },
     "execution_count": 246,
     "metadata": {},
     "output_type": "execute_result"
    }
   ],
   "source": [
    "df['class'].value_counts()"
   ]
  },
  {
   "cell_type": "markdown",
   "id": "5f535201",
   "metadata": {},
   "source": [
    "The first countplot above may have already led us to infer that the proportion of edible to deadly mushrooms is almost equal.\n",
    "<br>\n",
    "However, all scepticism will be dispelled by discovering the unique numerical values of the target variable.\n",
    "<br>\n",
    "As can be seen, the edible and poisonous mushrooms are equal to 4208 and 3916 respectively which are close. \n",
    "<br>\n",
    "<br>\n",
    "That being said, it can be concluded that the dataset is balanced.\n",
    "<br>\n",
    "<br>\n"
   ]
  },
  {
   "cell_type": "markdown",
   "id": "418cdcbe",
   "metadata": {},
   "source": [
    "#### Encoding the categorical variables"
   ]
  },
  {
   "cell_type": "markdown",
   "id": "97ea6950",
   "metadata": {},
   "source": [
    "Machine learning models require all input and output variables to be numeric. \n",
    "<br>\n",
    "Since all of our data is categorical, it must first be converted to numbers before we can fit and evaluate our model. "
   ]
  },
  {
   "cell_type": "code",
   "execution_count": 247,
   "id": "57fa5ab8",
   "metadata": {},
   "outputs": [],
   "source": [
    "%%capture\n",
    "\n",
    "! pip install scikit-learn\n",
    "\n",
    "from sklearn.preprocessing import LabelEncoder"
   ]
  },
  {
   "cell_type": "code",
   "execution_count": 248,
   "id": "1e2f1f7f",
   "metadata": {},
   "outputs": [],
   "source": [
    "def encode_data(data):\n",
    "    le = LabelEncoder()\n",
    "\n",
    "    for col in data:\n",
    "        df[col] = le.fit_transform(df[col])\n",
    "        \n",
    "    return df\n",
    "      \n",
    "    \n",
    "df = encode_data(df.columns)"
   ]
  },
  {
   "cell_type": "markdown",
   "id": "318cd30b",
   "metadata": {},
   "source": [
    "The data encoding technique employed is the label encoding where as its name suggests, it transforms the labels into a numeric form.\n",
    "<br>\n",
    "<br>\n",
    "<br>"
   ]
  },
  {
   "cell_type": "code",
   "execution_count": 249,
   "id": "5e04fea1",
   "metadata": {},
   "outputs": [
    {
     "name": "stdout",
     "output_type": "stream",
     "text": [
      "[3 2 0 4 5 1]\n",
      "class\n",
      "0    4208\n",
      "1    3916\n",
      "dtype: int64\n"
     ]
    }
   ],
   "source": [
    "# check that all the encoded values are different between them\n",
    "print(df['population'].unique())\n",
    "\n",
    "# check the size of the encoded values of the label 'class'\n",
    "print(df.groupby('class').size()) # 0 and 1"
   ]
  },
  {
   "cell_type": "markdown",
   "id": "1b274dfc",
   "metadata": {},
   "source": [
    "We must ensure that the encoded values are all distinct from one another.\n",
    "<br>\n",
    "<br>\n",
    "The fact that the encoded values have the same quantity as the uncoded values further demonstrates the success of the label encoding (4208, 3916). Thus, it follows that the numbers 0 and 1 correspond to edible and poisonous mushrooms, respectively.\n",
    "<br>\n",
    "<br>"
   ]
  },
  {
   "cell_type": "markdown",
   "id": "6287e113",
   "metadata": {},
   "source": [
    "#### Splitting data"
   ]
  },
  {
   "cell_type": "markdown",
   "id": "92335a6e",
   "metadata": {},
   "source": [
    "<u> The difference between the Train set and Test set: </u>\n",
    "<br>\n",
    "Our data is frequently divided into training and test sets when we are building a machine learning model utilising certain data. The model is trained using the training set, then it is tested with data that it has never seen before.\n",
    "<br>\n",
    "<br>"
   ]
  },
  {
   "cell_type": "markdown",
   "id": "a3f61169",
   "metadata": {},
   "source": [
    "First, let's demonstrate how we divide the dataset's features and label."
   ]
  },
  {
   "cell_type": "code",
   "execution_count": 250,
   "id": "579bc57b",
   "metadata": {},
   "outputs": [
    {
     "data": {
      "text/html": [
       "<div>\n",
       "<style scoped>\n",
       "    .dataframe tbody tr th:only-of-type {\n",
       "        vertical-align: middle;\n",
       "    }\n",
       "\n",
       "    .dataframe tbody tr th {\n",
       "        vertical-align: top;\n",
       "    }\n",
       "\n",
       "    .dataframe thead th {\n",
       "        text-align: right;\n",
       "    }\n",
       "</style>\n",
       "<table border=\"1\" class=\"dataframe\">\n",
       "  <thead>\n",
       "    <tr style=\"text-align: right;\">\n",
       "      <th></th>\n",
       "      <th>cap-shape</th>\n",
       "      <th>cap-surface</th>\n",
       "      <th>cap-color</th>\n",
       "      <th>bruises</th>\n",
       "      <th>odor</th>\n",
       "      <th>gill-attachment</th>\n",
       "      <th>gill-spacing</th>\n",
       "      <th>gill-size</th>\n",
       "      <th>gill-color</th>\n",
       "      <th>stalk-shape</th>\n",
       "      <th>...</th>\n",
       "      <th>stalk-surface-below-ring</th>\n",
       "      <th>stalk-color-above-ring</th>\n",
       "      <th>stalk-color-below-ring</th>\n",
       "      <th>veil-type</th>\n",
       "      <th>veil-color</th>\n",
       "      <th>ring-number</th>\n",
       "      <th>ring-type</th>\n",
       "      <th>spore-print-color</th>\n",
       "      <th>population</th>\n",
       "      <th>habitat</th>\n",
       "    </tr>\n",
       "  </thead>\n",
       "  <tbody>\n",
       "    <tr>\n",
       "      <th>0</th>\n",
       "      <td>5</td>\n",
       "      <td>2</td>\n",
       "      <td>4</td>\n",
       "      <td>1</td>\n",
       "      <td>6</td>\n",
       "      <td>1</td>\n",
       "      <td>0</td>\n",
       "      <td>1</td>\n",
       "      <td>4</td>\n",
       "      <td>0</td>\n",
       "      <td>...</td>\n",
       "      <td>2</td>\n",
       "      <td>7</td>\n",
       "      <td>7</td>\n",
       "      <td>0</td>\n",
       "      <td>2</td>\n",
       "      <td>1</td>\n",
       "      <td>4</td>\n",
       "      <td>2</td>\n",
       "      <td>3</td>\n",
       "      <td>5</td>\n",
       "    </tr>\n",
       "    <tr>\n",
       "      <th>1</th>\n",
       "      <td>5</td>\n",
       "      <td>2</td>\n",
       "      <td>9</td>\n",
       "      <td>1</td>\n",
       "      <td>0</td>\n",
       "      <td>1</td>\n",
       "      <td>0</td>\n",
       "      <td>0</td>\n",
       "      <td>4</td>\n",
       "      <td>0</td>\n",
       "      <td>...</td>\n",
       "      <td>2</td>\n",
       "      <td>7</td>\n",
       "      <td>7</td>\n",
       "      <td>0</td>\n",
       "      <td>2</td>\n",
       "      <td>1</td>\n",
       "      <td>4</td>\n",
       "      <td>3</td>\n",
       "      <td>2</td>\n",
       "      <td>1</td>\n",
       "    </tr>\n",
       "    <tr>\n",
       "      <th>2</th>\n",
       "      <td>0</td>\n",
       "      <td>2</td>\n",
       "      <td>8</td>\n",
       "      <td>1</td>\n",
       "      <td>3</td>\n",
       "      <td>1</td>\n",
       "      <td>0</td>\n",
       "      <td>0</td>\n",
       "      <td>5</td>\n",
       "      <td>0</td>\n",
       "      <td>...</td>\n",
       "      <td>2</td>\n",
       "      <td>7</td>\n",
       "      <td>7</td>\n",
       "      <td>0</td>\n",
       "      <td>2</td>\n",
       "      <td>1</td>\n",
       "      <td>4</td>\n",
       "      <td>3</td>\n",
       "      <td>2</td>\n",
       "      <td>3</td>\n",
       "    </tr>\n",
       "    <tr>\n",
       "      <th>3</th>\n",
       "      <td>5</td>\n",
       "      <td>3</td>\n",
       "      <td>8</td>\n",
       "      <td>1</td>\n",
       "      <td>6</td>\n",
       "      <td>1</td>\n",
       "      <td>0</td>\n",
       "      <td>1</td>\n",
       "      <td>5</td>\n",
       "      <td>0</td>\n",
       "      <td>...</td>\n",
       "      <td>2</td>\n",
       "      <td>7</td>\n",
       "      <td>7</td>\n",
       "      <td>0</td>\n",
       "      <td>2</td>\n",
       "      <td>1</td>\n",
       "      <td>4</td>\n",
       "      <td>2</td>\n",
       "      <td>3</td>\n",
       "      <td>5</td>\n",
       "    </tr>\n",
       "    <tr>\n",
       "      <th>4</th>\n",
       "      <td>5</td>\n",
       "      <td>2</td>\n",
       "      <td>3</td>\n",
       "      <td>0</td>\n",
       "      <td>5</td>\n",
       "      <td>1</td>\n",
       "      <td>1</td>\n",
       "      <td>0</td>\n",
       "      <td>4</td>\n",
       "      <td>1</td>\n",
       "      <td>...</td>\n",
       "      <td>2</td>\n",
       "      <td>7</td>\n",
       "      <td>7</td>\n",
       "      <td>0</td>\n",
       "      <td>2</td>\n",
       "      <td>1</td>\n",
       "      <td>0</td>\n",
       "      <td>3</td>\n",
       "      <td>0</td>\n",
       "      <td>1</td>\n",
       "    </tr>\n",
       "  </tbody>\n",
       "</table>\n",
       "<p>5 rows × 22 columns</p>\n",
       "</div>"
      ],
      "text/plain": [
       "   cap-shape  cap-surface  cap-color  bruises  odor  gill-attachment  \\\n",
       "0          5            2          4        1     6                1   \n",
       "1          5            2          9        1     0                1   \n",
       "2          0            2          8        1     3                1   \n",
       "3          5            3          8        1     6                1   \n",
       "4          5            2          3        0     5                1   \n",
       "\n",
       "   gill-spacing  gill-size  gill-color  stalk-shape  ...  \\\n",
       "0             0          1           4            0  ...   \n",
       "1             0          0           4            0  ...   \n",
       "2             0          0           5            0  ...   \n",
       "3             0          1           5            0  ...   \n",
       "4             1          0           4            1  ...   \n",
       "\n",
       "   stalk-surface-below-ring  stalk-color-above-ring  stalk-color-below-ring  \\\n",
       "0                         2                       7                       7   \n",
       "1                         2                       7                       7   \n",
       "2                         2                       7                       7   \n",
       "3                         2                       7                       7   \n",
       "4                         2                       7                       7   \n",
       "\n",
       "   veil-type  veil-color  ring-number  ring-type  spore-print-color  \\\n",
       "0          0           2            1          4                  2   \n",
       "1          0           2            1          4                  3   \n",
       "2          0           2            1          4                  3   \n",
       "3          0           2            1          4                  2   \n",
       "4          0           2            1          0                  3   \n",
       "\n",
       "   population  habitat  \n",
       "0           3        5  \n",
       "1           2        1  \n",
       "2           2        3  \n",
       "3           3        5  \n",
       "4           0        1  \n",
       "\n",
       "[5 rows x 22 columns]"
      ]
     },
     "execution_count": 250,
     "metadata": {},
     "output_type": "execute_result"
    }
   ],
   "source": [
    "features = df.iloc[:, 1:] # all rows, all the features and no label\n",
    "\n",
    "features.head()"
   ]
  },
  {
   "cell_type": "code",
   "execution_count": 251,
   "id": "6cc777af",
   "metadata": {},
   "outputs": [
    {
     "data": {
      "text/plain": [
       "0    1\n",
       "1    0\n",
       "2    0\n",
       "3    1\n",
       "4    0\n",
       "Name: class, dtype: int64"
      ]
     },
     "execution_count": 251,
     "metadata": {},
     "output_type": "execute_result"
    }
   ],
   "source": [
    "target = df.iloc[:, 0] # all rows, label only\n",
    "\n",
    "target.head()"
   ]
  },
  {
   "cell_type": "markdown",
   "id": "6cddcc1e",
   "metadata": {},
   "source": [
    "<br>\n",
    "<br>\n",
    "<br>\n",
    "To ensure that the forms are in line to have a correct fit while training, it is necessary to examine the sizes of both the features and the target.\n",
    "<br>\n",
    "Otherwise, the process of learning could be disrupted by different shapes."
   ]
  },
  {
   "cell_type": "code",
   "execution_count": 252,
   "id": "c4d74591",
   "metadata": {},
   "outputs": [
    {
     "name": "stdout",
     "output_type": "stream",
     "text": [
      "Shape of features is  (8124, 22)\n",
      "Shape of target is  (8124,)\n"
     ]
    }
   ],
   "source": [
    "print(\"Shape of features is \", features.shape)\n",
    "print(\"Shape of target is \", target.shape)"
   ]
  },
  {
   "cell_type": "markdown",
   "id": "89075680",
   "metadata": {},
   "source": [
    "<u> As expected, we have: </u>\n",
    " - only one target (class)\n",
    " - 21 features (22 (features) - 1 (a feature has been dropped) = 21)\n",
    " - 8124 instances for both features and target"
   ]
  },
  {
   "cell_type": "markdown",
   "id": "4d758816",
   "metadata": {},
   "source": [
    "<br>"
   ]
  },
  {
   "cell_type": "code",
   "execution_count": 253,
   "id": "9dbf9e85",
   "metadata": {},
   "outputs": [],
   "source": [
    "from sklearn.model_selection import train_test_split\n",
    "\n",
    "# train set and test set\n",
    "def split_data(features, target):\n",
    "    train_features, test_features, train_target, test_target = \\\n",
    "                                    train_test_split(features, target, test_size=0.2, random_state=42)\n",
    "    \n",
    "    return train_features, test_features, train_target, test_target\n",
    "\n",
    "\n",
    "train_features, test_features, train_target, test_target = split_data(features, target)"
   ]
  },
  {
   "cell_type": "markdown",
   "id": "d5bbbc06",
   "metadata": {},
   "source": [
    "The distinction between the train and test set was already covered above.\n",
    "<br>\n",
    "<br>\n",
    "A common split when using the hold-out approach employs 80% of the data for training and 20% for testing.\n",
    "<br>\n",
    "<br>\n",
    "<br>"
   ]
  },
  {
   "cell_type": "code",
   "execution_count": 254,
   "id": "fff5bc59",
   "metadata": {},
   "outputs": [
    {
     "name": "stdout",
     "output_type": "stream",
     "text": [
      "Shape of features in the train set:  (6499, 22)\n",
      "Shape of target in the train set:  (6499,)\n",
      "Shape of features in the test set:  (1625, 22)\n",
      "Shape of target in the test set:  (1625,)\n"
     ]
    }
   ],
   "source": [
    "print(\"Shape of features in the train set: \", train_features.shape)\n",
    "print(\"Shape of target in the train set: \", train_target.shape)\n",
    "print(\"Shape of features in the test set: \", test_features.shape)\n",
    "print(\"Shape of target in the test set: \", test_target.shape)"
   ]
  },
  {
   "cell_type": "markdown",
   "id": "aca0b6bb",
   "metadata": {},
   "source": [
    "<u> By doing</u>: 8124 (instances) * 80/100 (proportion of train set) = 6499.2 ~ 6499 (instances) which verifies our train set's size.\n",
    "<br>\n",
    "<br>\n",
    "<u> Same applies for test set</u>:\n",
    "<br>\n",
    "8124 (instances) * 20/100 (proportion of test set) = 1624.8 ~ 1625 (instances) which verifies our test set's size.\n",
    "\n",
    "<br>\n",
    "<br>"
   ]
  },
  {
   "cell_type": "markdown",
   "id": "f1f2307c",
   "metadata": {},
   "source": [
    "#### Feature Scaling"
   ]
  },
  {
   "cell_type": "code",
   "execution_count": 255,
   "id": "1980c93a",
   "metadata": {},
   "outputs": [],
   "source": [
    "from sklearn.preprocessing import StandardScaler\n",
    "\n",
    "def standardise_data(train_features, test_features):\n",
    "    sc = StandardScaler()\n",
    "\n",
    "    train_features = sc.fit_transform(train_features)\n",
    "    test_features = sc.transform(test_features)\n",
    "    \n",
    "    return train_features, test_features\n",
    "\n",
    "\n",
    "train_features, test_features = standardise_data(train_features, test_features)"
   ]
  },
  {
   "cell_type": "markdown",
   "id": "0a6c121c",
   "metadata": {},
   "source": [
    "Our data needs to be transformed in such a manner to have a mean of 0 and a standard deviation of 1. That’s where Standard Scaler comes into play. \n",
    "<br>\n",
    "The purpose of doing such a thing is to make sure that the data is internally consistent.\n",
    "<br>\n",
    "<br>"
   ]
  },
  {
   "cell_type": "markdown",
   "id": "a2a305ab",
   "metadata": {},
   "source": [
    "### 3. Choosing a model"
   ]
  },
  {
   "cell_type": "markdown",
   "id": "a9298344",
   "metadata": {},
   "source": [
    "We have finally come to the point where a model needs to be chosen for both training and evaluating it. \n",
    "<br>\n",
    "Our chosen model is Logistic Regression as it is easy to be built and be trained."
   ]
  },
  {
   "cell_type": "code",
   "execution_count": 256,
   "id": "cb37730e",
   "metadata": {},
   "outputs": [],
   "source": [
    "from sklearn.linear_model import LogisticRegression\n",
    "\n",
    "model = LogisticRegression()"
   ]
  },
  {
   "cell_type": "markdown",
   "id": "d1eabfbb",
   "metadata": {},
   "source": [
    "<br>\n"
   ]
  },
  {
   "cell_type": "markdown",
   "id": "2ecbe6ca",
   "metadata": {},
   "source": [
    "### 4. Training the model"
   ]
  },
  {
   "cell_type": "code",
   "execution_count": 257,
   "id": "584fdb3d",
   "metadata": {},
   "outputs": [
    {
     "data": {
      "text/html": [
       "<style>#sk-container-id-11 {color: black;background-color: white;}#sk-container-id-11 pre{padding: 0;}#sk-container-id-11 div.sk-toggleable {background-color: white;}#sk-container-id-11 label.sk-toggleable__label {cursor: pointer;display: block;width: 100%;margin-bottom: 0;padding: 0.3em;box-sizing: border-box;text-align: center;}#sk-container-id-11 label.sk-toggleable__label-arrow:before {content: \"▸\";float: left;margin-right: 0.25em;color: #696969;}#sk-container-id-11 label.sk-toggleable__label-arrow:hover:before {color: black;}#sk-container-id-11 div.sk-estimator:hover label.sk-toggleable__label-arrow:before {color: black;}#sk-container-id-11 div.sk-toggleable__content {max-height: 0;max-width: 0;overflow: hidden;text-align: left;background-color: #f0f8ff;}#sk-container-id-11 div.sk-toggleable__content pre {margin: 0.2em;color: black;border-radius: 0.25em;background-color: #f0f8ff;}#sk-container-id-11 input.sk-toggleable__control:checked~div.sk-toggleable__content {max-height: 200px;max-width: 100%;overflow: auto;}#sk-container-id-11 input.sk-toggleable__control:checked~label.sk-toggleable__label-arrow:before {content: \"▾\";}#sk-container-id-11 div.sk-estimator input.sk-toggleable__control:checked~label.sk-toggleable__label {background-color: #d4ebff;}#sk-container-id-11 div.sk-label input.sk-toggleable__control:checked~label.sk-toggleable__label {background-color: #d4ebff;}#sk-container-id-11 input.sk-hidden--visually {border: 0;clip: rect(1px 1px 1px 1px);clip: rect(1px, 1px, 1px, 1px);height: 1px;margin: -1px;overflow: hidden;padding: 0;position: absolute;width: 1px;}#sk-container-id-11 div.sk-estimator {font-family: monospace;background-color: #f0f8ff;border: 1px dotted black;border-radius: 0.25em;box-sizing: border-box;margin-bottom: 0.5em;}#sk-container-id-11 div.sk-estimator:hover {background-color: #d4ebff;}#sk-container-id-11 div.sk-parallel-item::after {content: \"\";width: 100%;border-bottom: 1px solid gray;flex-grow: 1;}#sk-container-id-11 div.sk-label:hover label.sk-toggleable__label {background-color: #d4ebff;}#sk-container-id-11 div.sk-serial::before {content: \"\";position: absolute;border-left: 1px solid gray;box-sizing: border-box;top: 0;bottom: 0;left: 50%;z-index: 0;}#sk-container-id-11 div.sk-serial {display: flex;flex-direction: column;align-items: center;background-color: white;padding-right: 0.2em;padding-left: 0.2em;position: relative;}#sk-container-id-11 div.sk-item {position: relative;z-index: 1;}#sk-container-id-11 div.sk-parallel {display: flex;align-items: stretch;justify-content: center;background-color: white;position: relative;}#sk-container-id-11 div.sk-item::before, #sk-container-id-11 div.sk-parallel-item::before {content: \"\";position: absolute;border-left: 1px solid gray;box-sizing: border-box;top: 0;bottom: 0;left: 50%;z-index: -1;}#sk-container-id-11 div.sk-parallel-item {display: flex;flex-direction: column;z-index: 1;position: relative;background-color: white;}#sk-container-id-11 div.sk-parallel-item:first-child::after {align-self: flex-end;width: 50%;}#sk-container-id-11 div.sk-parallel-item:last-child::after {align-self: flex-start;width: 50%;}#sk-container-id-11 div.sk-parallel-item:only-child::after {width: 0;}#sk-container-id-11 div.sk-dashed-wrapped {border: 1px dashed gray;margin: 0 0.4em 0.5em 0.4em;box-sizing: border-box;padding-bottom: 0.4em;background-color: white;}#sk-container-id-11 div.sk-label label {font-family: monospace;font-weight: bold;display: inline-block;line-height: 1.2em;}#sk-container-id-11 div.sk-label-container {text-align: center;}#sk-container-id-11 div.sk-container {/* jupyter's `normalize.less` sets `[hidden] { display: none; }` but bootstrap.min.css set `[hidden] { display: none !important; }` so we also need the `!important` here to be able to override the default hidden behavior on the sphinx rendered scikit-learn.org. See: https://github.com/scikit-learn/scikit-learn/issues/21755 */display: inline-block !important;position: relative;}#sk-container-id-11 div.sk-text-repr-fallback {display: none;}</style><div id=\"sk-container-id-11\" class=\"sk-top-container\"><div class=\"sk-text-repr-fallback\"><pre>LogisticRegression()</pre><b>In a Jupyter environment, please rerun this cell to show the HTML representation or trust the notebook. <br />On GitHub, the HTML representation is unable to render, please try loading this page with nbviewer.org.</b></div><div class=\"sk-container\" hidden><div class=\"sk-item\"><div class=\"sk-estimator sk-toggleable\"><input class=\"sk-toggleable__control sk-hidden--visually\" id=\"sk-estimator-id-21\" type=\"checkbox\" checked><label for=\"sk-estimator-id-21\" class=\"sk-toggleable__label sk-toggleable__label-arrow\">LogisticRegression</label><div class=\"sk-toggleable__content\"><pre>LogisticRegression()</pre></div></div></div></div></div>"
      ],
      "text/plain": [
       "LogisticRegression()"
      ]
     },
     "execution_count": 257,
     "metadata": {},
     "output_type": "execute_result"
    }
   ],
   "source": [
    "# fit Logistic Regression\n",
    "model.fit(train_features, train_target)"
   ]
  },
  {
   "cell_type": "markdown",
   "id": "5185af0f",
   "metadata": {},
   "source": [
    "<br>"
   ]
  },
  {
   "cell_type": "markdown",
   "id": "f6b122b8",
   "metadata": {},
   "source": [
    "### 5. Evaluating the model"
   ]
  },
  {
   "cell_type": "markdown",
   "id": "bd88239d",
   "metadata": {},
   "source": [
    "For evaluating our Logistic Regression model, accuracy score needs to be found and\n",
    "confusion matrix needs to be plotted."
   ]
  },
  {
   "cell_type": "code",
   "execution_count": 258,
   "id": "8aa33004",
   "metadata": {},
   "outputs": [],
   "source": [
    "# get the prediction of the target of the test set\n",
    "test_target_prediction = model.predict(test_features) # predict class labels for samples in features of test set"
   ]
  },
  {
   "cell_type": "code",
   "execution_count": 259,
   "id": "e866be26",
   "metadata": {},
   "outputs": [
    {
     "name": "stdout",
     "output_type": "stream",
     "text": [
      "Accuracy score: 96.43076923076923\n"
     ]
    }
   ],
   "source": [
    "from sklearn.metrics import accuracy_score\n",
    "\n",
    "print(\"Accuracy score:\", accuracy_score(test_target, test_target_prediction, normalize=True) * 100)"
   ]
  },
  {
   "cell_type": "markdown",
   "id": "7e7de0ff",
   "metadata": {},
   "source": [
    "Our model has almost attained an accuracy of 97%, which is regarded fantastic.\n",
    "<br>\n",
    "Although working on a classification task, the optimum score is 100% accuracy.\n",
    "<br>\n",
    "As a result, we'll strive to enhance it even more using a tool called an optimizer in a later stage.\n",
    "<br>\n",
    "<br>\n",
    "<br>"
   ]
  },
  {
   "cell_type": "code",
   "execution_count": 260,
   "id": "c1e10631",
   "metadata": {},
   "outputs": [
    {
     "data": {
      "image/png": "[encoded data removed]",
      "text/plain": [
       "<Figure size 640x480 with 1 Axes>"
      ]
     },
     "metadata": {},
     "output_type": "display_data"
    }
   ],
   "source": [
    "from sklearn.metrics import confusion_matrix\n",
    "\n",
    "def visualise_conf_matrix(test_target, test_target_prediction):\n",
    "    # confusion matrix\n",
    "    cm = confusion_matrix(test_target, test_target_prediction)\n",
    "\n",
    "    sns.heatmap(cm, cmap='Blues', annot=True, fmt='d', cbar=False, yticklabels=['Edible', 'Poisonous'], \\\n",
    "                xticklabels=['Predicted Edible', 'Predicted Poisonous'])\n",
    "\n",
    "    plt.show()\n",
    "    \n",
    "\n",
    "visualise_conf_matrix(test_target, test_target_prediction)"
   ]
  },
  {
   "cell_type": "markdown",
   "id": "61e09f3b",
   "metadata": {},
   "source": [
    "The confusion matrix reveals that the model has correctly predicted 1567 out of 1625 observations, which is a decent result.\n",
    "<br>\n",
    "<br>"
   ]
  },
  {
   "cell_type": "markdown",
   "id": "bd3a8b29",
   "metadata": {},
   "source": [
    "### 6. Parameter Tuning"
   ]
  },
  {
   "cell_type": "markdown",
   "id": "73ef4eed",
   "metadata": {},
   "source": [
    "This stage aims to prevent over-fitting, which occurs when a model performs well on training data but poorly on unseen data, by improving how effectively it learns the data that is given into it (generalisation). \n",
    "<br>\n",
    "<br>\n",
    "That's where Cross-validation enters the picture.\n",
    "<br>\n",
    "<br>"
   ]
  },
  {
   "cell_type": "markdown",
   "id": "87cd6116",
   "metadata": {},
   "source": [
    "#### Cross-validation using KFold"
   ]
  },
  {
   "cell_type": "markdown",
   "id": "fc1414ac",
   "metadata": {},
   "source": [
    "Cross-validation is very similar to hold-out method, but it’s applied to more subsets. For example, what if one subset of our data has only mushrooms from a specific cap, gill or only\n",
    "mushrooms with the same stalk? Such a case would definitely lead to over-fitting but the goal is to avoid it.\n"
   ]
  },
  {
   "cell_type": "markdown",
   "id": "5cc8ab30",
   "metadata": {},
   "source": [
    "<u> The difference between Hold-out method and K-fold Cross Validation: </u> \n",
    "<br>\n",
    "During cross-validation, we do many splits, not just one like how the Hold-out method does. We are able to divide our data into 3, 5, 10, or any K number of splits/folds."
   ]
  },
  {
   "cell_type": "markdown",
   "id": "b8f166ed",
   "metadata": {},
   "source": [
    "The data set is divided into five parts if we utilise 5-folds. A different part turns into the validation set in every iteration.\n",
    "<br>\n",
    "<br>\n",
    "In the first iteration, we use the first part of the data for validation. Then, as illustrated in the\n",
    "image below, we use the other parts of the data set for training."
   ]
  },
  {
   "cell_type": "markdown",
   "id": "9294eac9",
   "metadata": {},
   "source": [
    "<img src=\"kfold.png\" width=\"600\">"
   ]
  },
  {
   "cell_type": "markdown",
   "id": "91ffe8c5",
   "metadata": {},
   "source": [
    "The image was created using [draw.io](https://www.draw.io/connect/office365/index.html) but was inspired from [How to Implement K fold Cross-Validation in Scikit-Learn\n",
    "](https://www.section.io/engineering-education/how-to-implement-k-fold-cross-validation/) article."
   ]
  },
  {
   "cell_type": "markdown",
   "id": "7d3d203e",
   "metadata": {},
   "source": [
    "<br>\n",
    "<br>\n",
    "<br>\n",
    "However, the most popular number used for folds is 10 [5] and thus, that's the number we will move forward with."
   ]
  },
  {
   "cell_type": "code",
   "execution_count": 261,
   "id": "37783d2a",
   "metadata": {},
   "outputs": [],
   "source": [
    "from sklearn.model_selection import KFold\n",
    "\n",
    "cv = KFold(n_splits=10, random_state=42, shuffle=True)"
   ]
  },
  {
   "cell_type": "markdown",
   "id": "2e90435e",
   "metadata": {},
   "source": [
    "The model will then be finalised by averaging it against each of the folds."
   ]
  },
  {
   "cell_type": "code",
   "execution_count": 262,
   "id": "44c685c1",
   "metadata": {},
   "outputs": [
    {
     "name": "stdout",
     "output_type": "stream",
     "text": [
      "Cross validation scores: [0.6400693  0.96198468 0.99918721 0.99969333 0.99512523 0.98409946\n",
      " 1.         0.99695716 0.61063208 0.9946861 ] \n",
      "\n",
      "Average accuracy: 91.82434548897216\n"
     ]
    }
   ],
   "source": [
    "from sklearn.model_selection import cross_val_score\n",
    "\n",
    "scores = cross_val_score(model, features, target, scoring=\"average_precision\", cv=10)\n",
    "\n",
    "print(\"Cross validation scores:\", scores, \"\\n\")\n",
    "print(\"Average accuracy: {}\".format(scores.mean() * 100))"
   ]
  },
  {
   "cell_type": "markdown",
   "id": "e255e767",
   "metadata": {},
   "source": [
    "<br>"
   ]
  },
  {
   "cell_type": "markdown",
   "id": "464c66af",
   "metadata": {},
   "source": [
    "#### GridSearchCV"
   ]
  },
  {
   "cell_type": "markdown",
   "id": "ff80337b",
   "metadata": {},
   "source": [
    "When fitting our model, we may test out all the possible combinations while specifying various values for each hyperparameter. \n",
    "<br>\n",
    "GridSearchCV's outcome is a collection of hyperparameters that best suit our data in terms of the scoring metric we want our model to optimize on [6].\n",
    "<br>\n",
    "<br>"
   ]
  },
  {
   "cell_type": "code",
   "execution_count": 263,
   "id": "f10d3dc1",
   "metadata": {},
   "outputs": [],
   "source": [
    "import numpy as np\n",
    "\n",
    "# a dictionary of parameters\n",
    "parameters = {\n",
    "'penalty' : ['l1','l2'],   \n",
    "'C'       : np.logspace(-3,3,7),\n",
    "'solver'  : ['newton-cg', 'lbfgs', 'liblinear'],\n",
    "}"
   ]
  },
  {
   "cell_type": "markdown",
   "id": "f1a07b15",
   "metadata": {},
   "source": [
    "The parameter grid (a dictionary containing all the various hyperparameters) used below was taken from a Medium article, [Tuning the Hyperparameters of your Machine Learning Model using GridSearchCV](https://towardsdatascience.com/tuning-the-hyperparameters-of-your-machine-learning-model-using-gridsearchcv-7fc2bb76ff27).\n",
    "<br>\n",
    "<br>\n",
    "<br>"
   ]
  },
  {
   "cell_type": "code",
   "execution_count": 264,
   "id": "ec20177e",
   "metadata": {},
   "outputs": [
    {
     "data": {
      "text/html": [
       "<style>#sk-container-id-12 {color: black;background-color: white;}#sk-container-id-12 pre{padding: 0;}#sk-container-id-12 div.sk-toggleable {background-color: white;}#sk-container-id-12 label.sk-toggleable__label {cursor: pointer;display: block;width: 100%;margin-bottom: 0;padding: 0.3em;box-sizing: border-box;text-align: center;}#sk-container-id-12 label.sk-toggleable__label-arrow:before {content: \"▸\";float: left;margin-right: 0.25em;color: #696969;}#sk-container-id-12 label.sk-toggleable__label-arrow:hover:before {color: black;}#sk-container-id-12 div.sk-estimator:hover label.sk-toggleable__label-arrow:before {color: black;}#sk-container-id-12 div.sk-toggleable__content {max-height: 0;max-width: 0;overflow: hidden;text-align: left;background-color: #f0f8ff;}#sk-container-id-12 div.sk-toggleable__content pre {margin: 0.2em;color: black;border-radius: 0.25em;background-color: #f0f8ff;}#sk-container-id-12 input.sk-toggleable__control:checked~div.sk-toggleable__content {max-height: 200px;max-width: 100%;overflow: auto;}#sk-container-id-12 input.sk-toggleable__control:checked~label.sk-toggleable__label-arrow:before {content: \"▾\";}#sk-container-id-12 div.sk-estimator input.sk-toggleable__control:checked~label.sk-toggleable__label {background-color: #d4ebff;}#sk-container-id-12 div.sk-label input.sk-toggleable__control:checked~label.sk-toggleable__label {background-color: #d4ebff;}#sk-container-id-12 input.sk-hidden--visually {border: 0;clip: rect(1px 1px 1px 1px);clip: rect(1px, 1px, 1px, 1px);height: 1px;margin: -1px;overflow: hidden;padding: 0;position: absolute;width: 1px;}#sk-container-id-12 div.sk-estimator {font-family: monospace;background-color: #f0f8ff;border: 1px dotted black;border-radius: 0.25em;box-sizing: border-box;margin-bottom: 0.5em;}#sk-container-id-12 div.sk-estimator:hover {background-color: #d4ebff;}#sk-container-id-12 div.sk-parallel-item::after {content: \"\";width: 100%;border-bottom: 1px solid gray;flex-grow: 1;}#sk-container-id-12 div.sk-label:hover label.sk-toggleable__label {background-color: #d4ebff;}#sk-container-id-12 div.sk-serial::before {content: \"\";position: absolute;border-left: 1px solid gray;box-sizing: border-box;top: 0;bottom: 0;left: 50%;z-index: 0;}#sk-container-id-12 div.sk-serial {display: flex;flex-direction: column;align-items: center;background-color: white;padding-right: 0.2em;padding-left: 0.2em;position: relative;}#sk-container-id-12 div.sk-item {position: relative;z-index: 1;}#sk-container-id-12 div.sk-parallel {display: flex;align-items: stretch;justify-content: center;background-color: white;position: relative;}#sk-container-id-12 div.sk-item::before, #sk-container-id-12 div.sk-parallel-item::before {content: \"\";position: absolute;border-left: 1px solid gray;box-sizing: border-box;top: 0;bottom: 0;left: 50%;z-index: -1;}#sk-container-id-12 div.sk-parallel-item {display: flex;flex-direction: column;z-index: 1;position: relative;background-color: white;}#sk-container-id-12 div.sk-parallel-item:first-child::after {align-self: flex-end;width: 50%;}#sk-container-id-12 div.sk-parallel-item:last-child::after {align-self: flex-start;width: 50%;}#sk-container-id-12 div.sk-parallel-item:only-child::after {width: 0;}#sk-container-id-12 div.sk-dashed-wrapped {border: 1px dashed gray;margin: 0 0.4em 0.5em 0.4em;box-sizing: border-box;padding-bottom: 0.4em;background-color: white;}#sk-container-id-12 div.sk-label label {font-family: monospace;font-weight: bold;display: inline-block;line-height: 1.2em;}#sk-container-id-12 div.sk-label-container {text-align: center;}#sk-container-id-12 div.sk-container {/* jupyter's `normalize.less` sets `[hidden] { display: none; }` but bootstrap.min.css set `[hidden] { display: none !important; }` so we also need the `!important` here to be able to override the default hidden behavior on the sphinx rendered scikit-learn.org. See: https://github.com/scikit-learn/scikit-learn/issues/21755 */display: inline-block !important;position: relative;}#sk-container-id-12 div.sk-text-repr-fallback {display: none;}</style><div id=\"sk-container-id-12\" class=\"sk-top-container\"><div class=\"sk-text-repr-fallback\"><pre>GridSearchCV(cv=10, estimator=LogisticRegression(),\n",
       "             param_grid={&#x27;C&#x27;: array([1.e-03, 1.e-02, 1.e-01, 1.e+00, 1.e+01, 1.e+02, 1.e+03]),\n",
       "                         &#x27;penalty&#x27;: [&#x27;l1&#x27;, &#x27;l2&#x27;],\n",
       "                         &#x27;solver&#x27;: [&#x27;newton-cg&#x27;, &#x27;lbfgs&#x27;, &#x27;liblinear&#x27;]},\n",
       "             scoring=&#x27;accuracy&#x27;)</pre><b>In a Jupyter environment, please rerun this cell to show the HTML representation or trust the notebook. <br />On GitHub, the HTML representation is unable to render, please try loading this page with nbviewer.org.</b></div><div class=\"sk-container\" hidden><div class=\"sk-item sk-dashed-wrapped\"><div class=\"sk-label-container\"><div class=\"sk-label sk-toggleable\"><input class=\"sk-toggleable__control sk-hidden--visually\" id=\"sk-estimator-id-22\" type=\"checkbox\" ><label for=\"sk-estimator-id-22\" class=\"sk-toggleable__label sk-toggleable__label-arrow\">GridSearchCV</label><div class=\"sk-toggleable__content\"><pre>GridSearchCV(cv=10, estimator=LogisticRegression(),\n",
       "             param_grid={&#x27;C&#x27;: array([1.e-03, 1.e-02, 1.e-01, 1.e+00, 1.e+01, 1.e+02, 1.e+03]),\n",
       "                         &#x27;penalty&#x27;: [&#x27;l1&#x27;, &#x27;l2&#x27;],\n",
       "                         &#x27;solver&#x27;: [&#x27;newton-cg&#x27;, &#x27;lbfgs&#x27;, &#x27;liblinear&#x27;]},\n",
       "             scoring=&#x27;accuracy&#x27;)</pre></div></div></div><div class=\"sk-parallel\"><div class=\"sk-parallel-item\"><div class=\"sk-item\"><div class=\"sk-label-container\"><div class=\"sk-label sk-toggleable\"><input class=\"sk-toggleable__control sk-hidden--visually\" id=\"sk-estimator-id-23\" type=\"checkbox\" ><label for=\"sk-estimator-id-23\" class=\"sk-toggleable__label sk-toggleable__label-arrow\">estimator: LogisticRegression</label><div class=\"sk-toggleable__content\"><pre>LogisticRegression()</pre></div></div></div><div class=\"sk-serial\"><div class=\"sk-item\"><div class=\"sk-estimator sk-toggleable\"><input class=\"sk-toggleable__control sk-hidden--visually\" id=\"sk-estimator-id-24\" type=\"checkbox\" ><label for=\"sk-estimator-id-24\" class=\"sk-toggleable__label sk-toggleable__label-arrow\">LogisticRegression</label><div class=\"sk-toggleable__content\"><pre>LogisticRegression()</pre></div></div></div></div></div></div></div></div></div></div>"
      ],
      "text/plain": [
       "GridSearchCV(cv=10, estimator=LogisticRegression(),\n",
       "             param_grid={'C': array([1.e-03, 1.e-02, 1.e-01, 1.e+00, 1.e+01, 1.e+02, 1.e+03]),\n",
       "                         'penalty': ['l1', 'l2'],\n",
       "                         'solver': ['newton-cg', 'lbfgs', 'liblinear']},\n",
       "             scoring='accuracy')"
      ]
     },
     "execution_count": 264,
     "metadata": {},
     "output_type": "execute_result"
    }
   ],
   "source": [
    "from sklearn.model_selection import GridSearchCV\n",
    "\n",
    "\n",
    "clf = GridSearchCV(model, # model\n",
    "                    param_grid=parameters, # hyperparameters\n",
    "                    scoring='accuracy', # metric for scoring\n",
    "                    cv=10) # number of folds\n",
    "\n",
    "\n",
    "# train the model with the training_model set\n",
    "clf.fit(train_features, train_target)"
   ]
  },
  {
   "cell_type": "markdown",
   "id": "29d84fdc",
   "metadata": {},
   "source": [
    "<br>\n",
    "<br>"
   ]
  },
  {
   "cell_type": "markdown",
   "id": "f96163bc",
   "metadata": {},
   "source": [
    "GridSearchCV makes an effort to improve our score by adjusting the given parameters in order to identify the best ones."
   ]
  },
  {
   "cell_type": "code",
   "execution_count": 265,
   "id": "7e0bbec1",
   "metadata": {},
   "outputs": [
    {
     "name": "stdout",
     "output_type": "stream",
     "text": [
      "Best tuned hyperparameters : {'C': 100.0, 'penalty': 'l2', 'solver': 'liblinear'} \n",
      "\n",
      "Accuracy using GridSearchCV: 96.75318241080953\n"
     ]
    }
   ],
   "source": [
    "print(\"Best tuned hyperparameters :\", clf.best_params_, \"\\n\")\n",
    "print(\"Accuracy using GridSearchCV:\", clf.best_score_ * 100)"
   ]
  },
  {
   "cell_type": "markdown",
   "id": "d46950d3",
   "metadata": {},
   "source": [
    "<br>\n",
    "<br>"
   ]
  },
  {
   "cell_type": "markdown",
   "id": "58de47cf",
   "metadata": {},
   "source": [
    "### 7. Predictions"
   ]
  },
  {
   "cell_type": "markdown",
   "id": "5730f63b",
   "metadata": {},
   "source": [
    "<b> Logistic Regression: </b> 96.43076923076923\n",
    "<br>\n",
    "<b> After using K-fold Cross-Validation and GridSearchCV: </b> 96.75318241080953\n",
    "\n",
    "It is clear from comparing the two scores that using K-fold Cross-Validation along with GridSearchCV assisted us in improving the performance of our model."
   ]
  },
  {
   "cell_type": "markdown",
   "id": "7e3304ae",
   "metadata": {},
   "source": [
    "## Alternative Solution - One Hot Encoding:"
   ]
  },
  {
   "cell_type": "markdown",
   "id": "37acd66b",
   "metadata": {},
   "source": [
    "We might have attained a great score of almost 97% but we could easily achieve a score of 100% in such a task.\n",
    "<br>\n",
    "<br>\n",
    "Let's see how this could have been done.\n",
    "<br>\n",
    "<br>"
   ]
  },
  {
   "cell_type": "code",
   "execution_count": 266,
   "id": "6472e0a9",
   "metadata": {},
   "outputs": [
    {
     "name": "stdout",
     "output_type": "stream",
     "text": [
      "Accuracy score: 100.0\n"
     ]
    },
    {
     "data": {
      "image/png": "[encoded data removed]",
      "text/plain": [
       "<Figure size 640x480 with 1 Axes>"
      ]
     },
     "metadata": {},
     "output_type": "display_data"
    }
   ],
   "source": [
    "# load file and get it as a dataframe\n",
    "df1 = get_df_from_file()\n",
    "\n",
    "# replace missing values\n",
    "df1['stalk-root'].fillna(df1['stalk-root'].mode()[0], inplace=True)\n",
    "\n",
    "dummies_columns1 = [list(df1.columns)[i] for i in np.arange(1,23)]\n",
    "df1 = pd.get_dummies(df1, columns=dummies_columns1)\n",
    "\n",
    "# map target variable class: 1 = poisonous, 0 = edible\n",
    "df1['class'] = df1['class'].map({\"p\": 1, \"e\": 0})\n",
    "\n",
    "# split data\n",
    "features = df1.iloc[:, 1:]\n",
    "target = df1.iloc[:, 0]\n",
    "\n",
    "# training set and test set\n",
    "train_features, test_features, train_target, test_target = train_test_split(features, target, test_size=0.2, random_state=0)\n",
    "\n",
    "# feature scaling\n",
    "train_features, test_features = standardise_data(train_features, test_features)\n",
    "\n",
    "# choose Logistic Regression as our model and fit it\n",
    "model = LogisticRegression()\n",
    "model.fit(train_features, train_target)\n",
    "\n",
    "# get the prediction of the target of the test set\n",
    "test_target_prediction = model.predict(test_features)\n",
    "\n",
    "# print accuracy score\n",
    "print(\"Accuracy score:\", accuracy_score(test_target, test_target_prediction, normalize=True) * 100)\n",
    "\n",
    "# visualise confusion matrix\n",
    "visualise_conf_matrix(test_target, test_target_prediction)"
   ]
  },
  {
   "cell_type": "markdown",
   "id": "8337f0e5",
   "metadata": {},
   "source": [
    "The code seen above is from the Medium post, [100% Accurate Mushroom Classification in Python](https://val0.medium.com/100-accurate-mushroom-classification-in-python-eac61da3bace).\n",
    "<br>"
   ]
  },
  {
   "cell_type": "markdown",
   "id": "a9776ee0",
   "metadata": {},
   "source": [
    "### What makes One Hot Encoding preferable than Label Encoding?"
   ]
  },
  {
   "cell_type": "markdown",
   "id": "c038e1cc",
   "metadata": {},
   "source": [
    "When the distinct values of each categorical feature are ordinal, label encoding is utilised. In other words, they can have some hierarchy or order. For instance, it makes reasonable to show T-shirt sizes as 1, 2, 3, and 4 since they might range from small to extra large.\n",
    "<br>\n",
    "<br>\n",
    "That's not the case in our situation, though. Nominal categorical variables with no inherent order make up our features. Examples of possible colours for the cap-color feature are brown, buff, cinnamon, grey, punk, purple, red, white, and yellow. This tactic is absurd, though, because yellow doesn't have a value four times that of brown.\n",
    "<br>\n",
    "<br>\n",
    "<br>\n",
    "<br>\n",
    "As can be seen on the code above, the data is one hot encoded by using the Pandas method \"get dummies\" to create dummy variables for all variables except from the \"class\" variable (our label). The label's values are manually mapped instead.\n",
    "<br>\n",
    "<br>\n",
    "Now, someone could think of why was the author done the mapping manually to adjust the numbers since he could start at 0 rather than 1 to include the \"class\" label as well?"
   ]
  },
  {
   "cell_type": "code",
   "execution_count": 267,
   "id": "c0005aaa",
   "metadata": {},
   "outputs": [
    {
     "data": {
      "text/html": [
       "<div>\n",
       "<style scoped>\n",
       "    .dataframe tbody tr th:only-of-type {\n",
       "        vertical-align: middle;\n",
       "    }\n",
       "\n",
       "    .dataframe tbody tr th {\n",
       "        vertical-align: top;\n",
       "    }\n",
       "\n",
       "    .dataframe thead th {\n",
       "        text-align: right;\n",
       "    }\n",
       "</style>\n",
       "<table border=\"1\" class=\"dataframe\">\n",
       "  <thead>\n",
       "    <tr style=\"text-align: right;\">\n",
       "      <th></th>\n",
       "      <th>class_e</th>\n",
       "      <th>class_p</th>\n",
       "      <th>cap-shape_b</th>\n",
       "      <th>cap-shape_c</th>\n",
       "      <th>cap-shape_f</th>\n",
       "      <th>cap-shape_k</th>\n",
       "      <th>cap-shape_s</th>\n",
       "      <th>cap-shape_x</th>\n",
       "      <th>cap-surface_f</th>\n",
       "      <th>cap-surface_g</th>\n",
       "      <th>...</th>\n",
       "      <th>population_s</th>\n",
       "      <th>population_v</th>\n",
       "      <th>population_y</th>\n",
       "      <th>habitat_d</th>\n",
       "      <th>habitat_g</th>\n",
       "      <th>habitat_l</th>\n",
       "      <th>habitat_m</th>\n",
       "      <th>habitat_p</th>\n",
       "      <th>habitat_u</th>\n",
       "      <th>habitat_w</th>\n",
       "    </tr>\n",
       "  </thead>\n",
       "  <tbody>\n",
       "    <tr>\n",
       "      <th>0</th>\n",
       "      <td>0</td>\n",
       "      <td>1</td>\n",
       "      <td>0</td>\n",
       "      <td>0</td>\n",
       "      <td>0</td>\n",
       "      <td>0</td>\n",
       "      <td>0</td>\n",
       "      <td>1</td>\n",
       "      <td>0</td>\n",
       "      <td>0</td>\n",
       "      <td>...</td>\n",
       "      <td>1</td>\n",
       "      <td>0</td>\n",
       "      <td>0</td>\n",
       "      <td>0</td>\n",
       "      <td>0</td>\n",
       "      <td>0</td>\n",
       "      <td>0</td>\n",
       "      <td>0</td>\n",
       "      <td>1</td>\n",
       "      <td>0</td>\n",
       "    </tr>\n",
       "    <tr>\n",
       "      <th>1</th>\n",
       "      <td>1</td>\n",
       "      <td>0</td>\n",
       "      <td>0</td>\n",
       "      <td>0</td>\n",
       "      <td>0</td>\n",
       "      <td>0</td>\n",
       "      <td>0</td>\n",
       "      <td>1</td>\n",
       "      <td>0</td>\n",
       "      <td>0</td>\n",
       "      <td>...</td>\n",
       "      <td>0</td>\n",
       "      <td>0</td>\n",
       "      <td>0</td>\n",
       "      <td>0</td>\n",
       "      <td>1</td>\n",
       "      <td>0</td>\n",
       "      <td>0</td>\n",
       "      <td>0</td>\n",
       "      <td>0</td>\n",
       "      <td>0</td>\n",
       "    </tr>\n",
       "    <tr>\n",
       "      <th>2</th>\n",
       "      <td>1</td>\n",
       "      <td>0</td>\n",
       "      <td>1</td>\n",
       "      <td>0</td>\n",
       "      <td>0</td>\n",
       "      <td>0</td>\n",
       "      <td>0</td>\n",
       "      <td>0</td>\n",
       "      <td>0</td>\n",
       "      <td>0</td>\n",
       "      <td>...</td>\n",
       "      <td>0</td>\n",
       "      <td>0</td>\n",
       "      <td>0</td>\n",
       "      <td>0</td>\n",
       "      <td>0</td>\n",
       "      <td>0</td>\n",
       "      <td>1</td>\n",
       "      <td>0</td>\n",
       "      <td>0</td>\n",
       "      <td>0</td>\n",
       "    </tr>\n",
       "    <tr>\n",
       "      <th>3</th>\n",
       "      <td>0</td>\n",
       "      <td>1</td>\n",
       "      <td>0</td>\n",
       "      <td>0</td>\n",
       "      <td>0</td>\n",
       "      <td>0</td>\n",
       "      <td>0</td>\n",
       "      <td>1</td>\n",
       "      <td>0</td>\n",
       "      <td>0</td>\n",
       "      <td>...</td>\n",
       "      <td>1</td>\n",
       "      <td>0</td>\n",
       "      <td>0</td>\n",
       "      <td>0</td>\n",
       "      <td>0</td>\n",
       "      <td>0</td>\n",
       "      <td>0</td>\n",
       "      <td>0</td>\n",
       "      <td>1</td>\n",
       "      <td>0</td>\n",
       "    </tr>\n",
       "    <tr>\n",
       "      <th>4</th>\n",
       "      <td>1</td>\n",
       "      <td>0</td>\n",
       "      <td>0</td>\n",
       "      <td>0</td>\n",
       "      <td>0</td>\n",
       "      <td>0</td>\n",
       "      <td>0</td>\n",
       "      <td>1</td>\n",
       "      <td>0</td>\n",
       "      <td>0</td>\n",
       "      <td>...</td>\n",
       "      <td>0</td>\n",
       "      <td>0</td>\n",
       "      <td>0</td>\n",
       "      <td>0</td>\n",
       "      <td>1</td>\n",
       "      <td>0</td>\n",
       "      <td>0</td>\n",
       "      <td>0</td>\n",
       "      <td>0</td>\n",
       "      <td>0</td>\n",
       "    </tr>\n",
       "  </tbody>\n",
       "</table>\n",
       "<p>5 rows × 118 columns</p>\n",
       "</div>"
      ],
      "text/plain": [
       "   class_e  class_p  cap-shape_b  cap-shape_c  cap-shape_f  cap-shape_k  \\\n",
       "0        0        1            0            0            0            0   \n",
       "1        1        0            0            0            0            0   \n",
       "2        1        0            1            0            0            0   \n",
       "3        0        1            0            0            0            0   \n",
       "4        1        0            0            0            0            0   \n",
       "\n",
       "   cap-shape_s  cap-shape_x  cap-surface_f  cap-surface_g  ...  population_s  \\\n",
       "0            0            1              0              0  ...             1   \n",
       "1            0            1              0              0  ...             0   \n",
       "2            0            0              0              0  ...             0   \n",
       "3            0            1              0              0  ...             1   \n",
       "4            0            1              0              0  ...             0   \n",
       "\n",
       "   population_v  population_y  habitat_d  habitat_g  habitat_l  habitat_m  \\\n",
       "0             0             0          0          0          0          0   \n",
       "1             0             0          0          1          0          0   \n",
       "2             0             0          0          0          0          1   \n",
       "3             0             0          0          0          0          0   \n",
       "4             0             0          0          1          0          0   \n",
       "\n",
       "   habitat_p  habitat_u  habitat_w  \n",
       "0          0          1          0  \n",
       "1          0          0          0  \n",
       "2          0          0          0  \n",
       "3          0          1          0  \n",
       "4          0          0          0  \n",
       "\n",
       "[5 rows x 118 columns]"
      ]
     },
     "execution_count": 267,
     "metadata": {},
     "output_type": "execute_result"
    }
   ],
   "source": [
    "df2 = get_df_from_file()\n",
    "\n",
    "df2['stalk-root'].fillna(df2['stalk-root'].mode()[0], inplace=True)\n",
    "\n",
    "dummies_columns2 = [list(df2.columns)[i] for i in np.arange(0,23)]\n",
    "df2 = pd.get_dummies(df2, columns=dummies_columns2)\n",
    "\n",
    "df2.head()"
   ]
  },
  {
   "cell_type": "markdown",
   "id": "8fb43994",
   "metadata": {},
   "source": [
    "The explanation is that using One Hot Encoding on the target variable is a terrible practice. It allows more possible combinations, which greatly complicates our task. The columns only changed from 117 to 118 due to the fact that the target variable has only two possible values (from 'class' transformed into 'class_e' and 'class_p')."
   ]
  },
  {
   "cell_type": "code",
   "execution_count": 268,
   "id": "e6f69114",
   "metadata": {},
   "outputs": [
    {
     "data": {
      "text/html": [
       "<div>\n",
       "<style scoped>\n",
       "    .dataframe tbody tr th:only-of-type {\n",
       "        vertical-align: middle;\n",
       "    }\n",
       "\n",
       "    .dataframe tbody tr th {\n",
       "        vertical-align: top;\n",
       "    }\n",
       "\n",
       "    .dataframe thead th {\n",
       "        text-align: right;\n",
       "    }\n",
       "</style>\n",
       "<table border=\"1\" class=\"dataframe\">\n",
       "  <thead>\n",
       "    <tr style=\"text-align: right;\">\n",
       "      <th></th>\n",
       "      <th>class</th>\n",
       "      <th>cap-shape_b</th>\n",
       "      <th>cap-shape_c</th>\n",
       "      <th>cap-shape_f</th>\n",
       "      <th>cap-shape_k</th>\n",
       "      <th>cap-shape_s</th>\n",
       "      <th>cap-shape_x</th>\n",
       "      <th>cap-surface_f</th>\n",
       "      <th>cap-surface_g</th>\n",
       "      <th>cap-surface_s</th>\n",
       "      <th>...</th>\n",
       "      <th>population_s</th>\n",
       "      <th>population_v</th>\n",
       "      <th>population_y</th>\n",
       "      <th>habitat_d</th>\n",
       "      <th>habitat_g</th>\n",
       "      <th>habitat_l</th>\n",
       "      <th>habitat_m</th>\n",
       "      <th>habitat_p</th>\n",
       "      <th>habitat_u</th>\n",
       "      <th>habitat_w</th>\n",
       "    </tr>\n",
       "  </thead>\n",
       "  <tbody>\n",
       "    <tr>\n",
       "      <th>0</th>\n",
       "      <td>1</td>\n",
       "      <td>0</td>\n",
       "      <td>0</td>\n",
       "      <td>0</td>\n",
       "      <td>0</td>\n",
       "      <td>0</td>\n",
       "      <td>1</td>\n",
       "      <td>0</td>\n",
       "      <td>0</td>\n",
       "      <td>1</td>\n",
       "      <td>...</td>\n",
       "      <td>1</td>\n",
       "      <td>0</td>\n",
       "      <td>0</td>\n",
       "      <td>0</td>\n",
       "      <td>0</td>\n",
       "      <td>0</td>\n",
       "      <td>0</td>\n",
       "      <td>0</td>\n",
       "      <td>1</td>\n",
       "      <td>0</td>\n",
       "    </tr>\n",
       "    <tr>\n",
       "      <th>1</th>\n",
       "      <td>0</td>\n",
       "      <td>0</td>\n",
       "      <td>0</td>\n",
       "      <td>0</td>\n",
       "      <td>0</td>\n",
       "      <td>0</td>\n",
       "      <td>1</td>\n",
       "      <td>0</td>\n",
       "      <td>0</td>\n",
       "      <td>1</td>\n",
       "      <td>...</td>\n",
       "      <td>0</td>\n",
       "      <td>0</td>\n",
       "      <td>0</td>\n",
       "      <td>0</td>\n",
       "      <td>1</td>\n",
       "      <td>0</td>\n",
       "      <td>0</td>\n",
       "      <td>0</td>\n",
       "      <td>0</td>\n",
       "      <td>0</td>\n",
       "    </tr>\n",
       "    <tr>\n",
       "      <th>2</th>\n",
       "      <td>0</td>\n",
       "      <td>1</td>\n",
       "      <td>0</td>\n",
       "      <td>0</td>\n",
       "      <td>0</td>\n",
       "      <td>0</td>\n",
       "      <td>0</td>\n",
       "      <td>0</td>\n",
       "      <td>0</td>\n",
       "      <td>1</td>\n",
       "      <td>...</td>\n",
       "      <td>0</td>\n",
       "      <td>0</td>\n",
       "      <td>0</td>\n",
       "      <td>0</td>\n",
       "      <td>0</td>\n",
       "      <td>0</td>\n",
       "      <td>1</td>\n",
       "      <td>0</td>\n",
       "      <td>0</td>\n",
       "      <td>0</td>\n",
       "    </tr>\n",
       "    <tr>\n",
       "      <th>3</th>\n",
       "      <td>1</td>\n",
       "      <td>0</td>\n",
       "      <td>0</td>\n",
       "      <td>0</td>\n",
       "      <td>0</td>\n",
       "      <td>0</td>\n",
       "      <td>1</td>\n",
       "      <td>0</td>\n",
       "      <td>0</td>\n",
       "      <td>0</td>\n",
       "      <td>...</td>\n",
       "      <td>1</td>\n",
       "      <td>0</td>\n",
       "      <td>0</td>\n",
       "      <td>0</td>\n",
       "      <td>0</td>\n",
       "      <td>0</td>\n",
       "      <td>0</td>\n",
       "      <td>0</td>\n",
       "      <td>1</td>\n",
       "      <td>0</td>\n",
       "    </tr>\n",
       "    <tr>\n",
       "      <th>4</th>\n",
       "      <td>0</td>\n",
       "      <td>0</td>\n",
       "      <td>0</td>\n",
       "      <td>0</td>\n",
       "      <td>0</td>\n",
       "      <td>0</td>\n",
       "      <td>1</td>\n",
       "      <td>0</td>\n",
       "      <td>0</td>\n",
       "      <td>1</td>\n",
       "      <td>...</td>\n",
       "      <td>0</td>\n",
       "      <td>0</td>\n",
       "      <td>0</td>\n",
       "      <td>0</td>\n",
       "      <td>1</td>\n",
       "      <td>0</td>\n",
       "      <td>0</td>\n",
       "      <td>0</td>\n",
       "      <td>0</td>\n",
       "      <td>0</td>\n",
       "    </tr>\n",
       "  </tbody>\n",
       "</table>\n",
       "<p>5 rows × 117 columns</p>\n",
       "</div>"
      ],
      "text/plain": [
       "   class  cap-shape_b  cap-shape_c  cap-shape_f  cap-shape_k  cap-shape_s  \\\n",
       "0      1            0            0            0            0            0   \n",
       "1      0            0            0            0            0            0   \n",
       "2      0            1            0            0            0            0   \n",
       "3      1            0            0            0            0            0   \n",
       "4      0            0            0            0            0            0   \n",
       "\n",
       "   cap-shape_x  cap-surface_f  cap-surface_g  cap-surface_s  ...  \\\n",
       "0            1              0              0              1  ...   \n",
       "1            1              0              0              1  ...   \n",
       "2            0              0              0              1  ...   \n",
       "3            1              0              0              0  ...   \n",
       "4            1              0              0              1  ...   \n",
       "\n",
       "   population_s  population_v  population_y  habitat_d  habitat_g  habitat_l  \\\n",
       "0             1             0             0          0          0          0   \n",
       "1             0             0             0          0          1          0   \n",
       "2             0             0             0          0          0          0   \n",
       "3             1             0             0          0          0          0   \n",
       "4             0             0             0          0          1          0   \n",
       "\n",
       "   habitat_m  habitat_p  habitat_u  habitat_w  \n",
       "0          0          0          1          0  \n",
       "1          0          0          0          0  \n",
       "2          1          0          0          0  \n",
       "3          0          0          1          0  \n",
       "4          0          0          0          0  \n",
       "\n",
       "[5 rows x 117 columns]"
      ]
     },
     "execution_count": 268,
     "metadata": {},
     "output_type": "execute_result"
    }
   ],
   "source": [
    "df1.head()"
   ]
  },
  {
   "cell_type": "markdown",
   "id": "6803c11e",
   "metadata": {},
   "source": [
    "Explanation: [OneHotEncoding on target variable](https://datascience.stackexchange.com/questions/87542/onehotencoding-target-variable)"
   ]
  },
  {
   "cell_type": "markdown",
   "id": "c0da4224",
   "metadata": {},
   "source": [
    "<br>\n",
    "<br>\n",
    "The correct answer to the above question is that the author maps the target variable as he can do so; but the suggested way to represent the label as an integer value of 0 or 1 is to use the LabelEncoder.\n",
    "<br>"
   ]
  },
  {
   "cell_type": "markdown",
   "id": "e365a929",
   "metadata": {},
   "source": [
    "<u>Shown with code:</u> [Training a machine to determine whether a mushroom is edible](https://inmachineswetrust.com/posts/mushroom-classification/)\n",
    "<br>\n",
    "<br>\n",
    "<u>Explanations:</u> \n",
    "1. [Why should LabelEncoder from sklearn be used only for the target variable?](https://stackoverflow.com/questions/62892086/why-should-labelencoder-from-sklearn-be-used-only-for-the-target-variable)\n",
    "2. [Is it vital to do label encoding with target variable?](https://datascience.stackexchange.com/questions/110031/is-it-vital-to-do-label-encoding-with-target-variable)\n",
    "<br>\n",
    "<br>"
   ]
  },
  {
   "cell_type": "markdown",
   "id": "1e84794e",
   "metadata": {},
   "source": [
    "## Sources:\n",
    "[1] [Why Logistic Regression?](https://kambria.io/blog/logistic-regression-for-machine-learning/)\n",
    "<br>\n",
    "[2] [Mushroom Classification dataset](https://www.kaggle.com/datasets/uciml/mushroom-classification)\n",
    "<br>\n",
    "[3] [What is Kaggle?](https://www.datacamp.com/blog/what-is-kaggle)\n",
    "<br>\n",
    "[4] [80%-20% splitting strategy](https://medium.com/@karyaozmen/how-to-split-train-and-test-data-c1381d240fc4)\n",
    "<br>\n",
    "[5] [The reason why K equals to 10 is the most popular value used](https://machinelearningmastery.com/how-to-configure-k-fold-cross-validation/#:~:text=The%20key%20configuration%20parameter%20for,evaluate%20models%20is%20k%3D10.)\n",
    "<br>\n",
    "[6] [The dictionary of hyperparameters used for tuning the hyperparameters using GridSearchCV](https://towardsdatascience.com/tuning-the-hyperparameters-of-your-machine-learning-model-using-gridsearchcv-7fc2bb76ff27)"
   ]
  }
 ],
 "metadata": {
  "kernelspec": {
   "display_name": "Python 3 (ipykernel)",
   "language": "python",
   "name": "python3"
  },
  "language_info": {
   "codemirror_mode": {
    "name": "ipython",
    "version": 3
   },
   "file_extension": ".py",
   "mimetype": "text/x-python",
   "name": "python",
   "nbconvert_exporter": "python",
   "pygments_lexer": "ipython3",
   "version": "3.8.10"
  },
  "vscode": {
   "interpreter": {
    "hash": "e7370f93d1d0cde622a1f8e1c04877d8463912d04d973331ad4851f04de6915a"
   }
  }
 },
 "nbformat": 4,
 "nbformat_minor": 5
}
